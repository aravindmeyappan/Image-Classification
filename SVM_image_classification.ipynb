{
 "cells": [
  {
   "cell_type": "code",
   "execution_count": 1,
   "id": "07e03409-b820-48cd-9aa1-600efcd64fe7",
   "metadata": {},
   "outputs": [],
   "source": [
    "import pandas as pd\n",
    "import numpy as np\n",
    "import matplotlib.pyplot as plt\n",
    "from sklearn.model_selection import train_test_split\n",
    "from sklearn.metrics import accuracy_score, confusion_matrix, classification_report\n",
    "from sklearn.svm import SVC\n",
    "from sklearn.model_selection import GridSearchCV\n",
    "import seaborn as sns"
   ]
  },
  {
   "cell_type": "code",
   "execution_count": 2,
   "id": "4f9300c4-0fec-435e-830e-5add23f7b321",
   "metadata": {},
   "outputs": [],
   "source": [
    "train_path = r\"C:\\Users\\user\\Documents\\ML\\datasets\\MNIST\\train.csv\"\n",
    "data = pd.read_csv(train_path)"
   ]
  },
  {
   "cell_type": "code",
   "execution_count": 3,
   "id": "00c1a005-95cf-48c7-ad08-988feaf41bbb",
   "metadata": {},
   "outputs": [],
   "source": [
    "test_path = r\"C:\\Users\\user\\Documents\\ML\\datasets\\MNIST\\test.csv\"\n",
    "test_data = pd.read_csv(test_path)"
   ]
  },
  {
   "cell_type": "code",
   "execution_count": 4,
   "id": "382d2148-c3fe-49a1-8cf3-f3647128f32d",
   "metadata": {},
   "outputs": [
    {
     "data": {
      "text/html": [
       "<div>\n",
       "<style scoped>\n",
       "    .dataframe tbody tr th:only-of-type {\n",
       "        vertical-align: middle;\n",
       "    }\n",
       "\n",
       "    .dataframe tbody tr th {\n",
       "        vertical-align: top;\n",
       "    }\n",
       "\n",
       "    .dataframe thead th {\n",
       "        text-align: right;\n",
       "    }\n",
       "</style>\n",
       "<table border=\"1\" class=\"dataframe\">\n",
       "  <thead>\n",
       "    <tr style=\"text-align: right;\">\n",
       "      <th></th>\n",
       "      <th>label</th>\n",
       "      <th>pixel0</th>\n",
       "      <th>pixel1</th>\n",
       "      <th>pixel2</th>\n",
       "      <th>pixel3</th>\n",
       "      <th>pixel4</th>\n",
       "      <th>pixel5</th>\n",
       "      <th>pixel6</th>\n",
       "      <th>pixel7</th>\n",
       "      <th>pixel8</th>\n",
       "      <th>...</th>\n",
       "      <th>pixel774</th>\n",
       "      <th>pixel775</th>\n",
       "      <th>pixel776</th>\n",
       "      <th>pixel777</th>\n",
       "      <th>pixel778</th>\n",
       "      <th>pixel779</th>\n",
       "      <th>pixel780</th>\n",
       "      <th>pixel781</th>\n",
       "      <th>pixel782</th>\n",
       "      <th>pixel783</th>\n",
       "    </tr>\n",
       "  </thead>\n",
       "  <tbody>\n",
       "    <tr>\n",
       "      <th>0</th>\n",
       "      <td>1</td>\n",
       "      <td>0</td>\n",
       "      <td>0</td>\n",
       "      <td>0</td>\n",
       "      <td>0</td>\n",
       "      <td>0</td>\n",
       "      <td>0</td>\n",
       "      <td>0</td>\n",
       "      <td>0</td>\n",
       "      <td>0</td>\n",
       "      <td>...</td>\n",
       "      <td>0</td>\n",
       "      <td>0</td>\n",
       "      <td>0</td>\n",
       "      <td>0</td>\n",
       "      <td>0</td>\n",
       "      <td>0</td>\n",
       "      <td>0</td>\n",
       "      <td>0</td>\n",
       "      <td>0</td>\n",
       "      <td>0</td>\n",
       "    </tr>\n",
       "    <tr>\n",
       "      <th>1</th>\n",
       "      <td>0</td>\n",
       "      <td>0</td>\n",
       "      <td>0</td>\n",
       "      <td>0</td>\n",
       "      <td>0</td>\n",
       "      <td>0</td>\n",
       "      <td>0</td>\n",
       "      <td>0</td>\n",
       "      <td>0</td>\n",
       "      <td>0</td>\n",
       "      <td>...</td>\n",
       "      <td>0</td>\n",
       "      <td>0</td>\n",
       "      <td>0</td>\n",
       "      <td>0</td>\n",
       "      <td>0</td>\n",
       "      <td>0</td>\n",
       "      <td>0</td>\n",
       "      <td>0</td>\n",
       "      <td>0</td>\n",
       "      <td>0</td>\n",
       "    </tr>\n",
       "    <tr>\n",
       "      <th>2</th>\n",
       "      <td>1</td>\n",
       "      <td>0</td>\n",
       "      <td>0</td>\n",
       "      <td>0</td>\n",
       "      <td>0</td>\n",
       "      <td>0</td>\n",
       "      <td>0</td>\n",
       "      <td>0</td>\n",
       "      <td>0</td>\n",
       "      <td>0</td>\n",
       "      <td>...</td>\n",
       "      <td>0</td>\n",
       "      <td>0</td>\n",
       "      <td>0</td>\n",
       "      <td>0</td>\n",
       "      <td>0</td>\n",
       "      <td>0</td>\n",
       "      <td>0</td>\n",
       "      <td>0</td>\n",
       "      <td>0</td>\n",
       "      <td>0</td>\n",
       "    </tr>\n",
       "    <tr>\n",
       "      <th>3</th>\n",
       "      <td>4</td>\n",
       "      <td>0</td>\n",
       "      <td>0</td>\n",
       "      <td>0</td>\n",
       "      <td>0</td>\n",
       "      <td>0</td>\n",
       "      <td>0</td>\n",
       "      <td>0</td>\n",
       "      <td>0</td>\n",
       "      <td>0</td>\n",
       "      <td>...</td>\n",
       "      <td>0</td>\n",
       "      <td>0</td>\n",
       "      <td>0</td>\n",
       "      <td>0</td>\n",
       "      <td>0</td>\n",
       "      <td>0</td>\n",
       "      <td>0</td>\n",
       "      <td>0</td>\n",
       "      <td>0</td>\n",
       "      <td>0</td>\n",
       "    </tr>\n",
       "    <tr>\n",
       "      <th>4</th>\n",
       "      <td>0</td>\n",
       "      <td>0</td>\n",
       "      <td>0</td>\n",
       "      <td>0</td>\n",
       "      <td>0</td>\n",
       "      <td>0</td>\n",
       "      <td>0</td>\n",
       "      <td>0</td>\n",
       "      <td>0</td>\n",
       "      <td>0</td>\n",
       "      <td>...</td>\n",
       "      <td>0</td>\n",
       "      <td>0</td>\n",
       "      <td>0</td>\n",
       "      <td>0</td>\n",
       "      <td>0</td>\n",
       "      <td>0</td>\n",
       "      <td>0</td>\n",
       "      <td>0</td>\n",
       "      <td>0</td>\n",
       "      <td>0</td>\n",
       "    </tr>\n",
       "  </tbody>\n",
       "</table>\n",
       "<p>5 rows × 785 columns</p>\n",
       "</div>"
      ],
      "text/plain": [
       "   label  pixel0  pixel1  pixel2  pixel3  pixel4  pixel5  pixel6  pixel7  \\\n",
       "0      1       0       0       0       0       0       0       0       0   \n",
       "1      0       0       0       0       0       0       0       0       0   \n",
       "2      1       0       0       0       0       0       0       0       0   \n",
       "3      4       0       0       0       0       0       0       0       0   \n",
       "4      0       0       0       0       0       0       0       0       0   \n",
       "\n",
       "   pixel8  ...  pixel774  pixel775  pixel776  pixel777  pixel778  pixel779  \\\n",
       "0       0  ...         0         0         0         0         0         0   \n",
       "1       0  ...         0         0         0         0         0         0   \n",
       "2       0  ...         0         0         0         0         0         0   \n",
       "3       0  ...         0         0         0         0         0         0   \n",
       "4       0  ...         0         0         0         0         0         0   \n",
       "\n",
       "   pixel780  pixel781  pixel782  pixel783  \n",
       "0         0         0         0         0  \n",
       "1         0         0         0         0  \n",
       "2         0         0         0         0  \n",
       "3         0         0         0         0  \n",
       "4         0         0         0         0  \n",
       "\n",
       "[5 rows x 785 columns]"
      ]
     },
     "execution_count": 4,
     "metadata": {},
     "output_type": "execute_result"
    }
   ],
   "source": [
    "data.head()"
   ]
  },
  {
   "cell_type": "code",
   "execution_count": 5,
   "id": "ab489c76-2199-45e3-98aa-c91d07ccd340",
   "metadata": {},
   "outputs": [],
   "source": [
    "# we will split the labels from the image data and store it in labels and pixel values variables\n",
    "labels = data['label'] # 1d array of size 42000\n",
    "pixels = data.drop('label', axis=1) # 2d array of 42000 images and each having 784 pixels"
   ]
  },
  {
   "cell_type": "code",
   "execution_count": 6,
   "id": "b077ec98-c11f-41a1-b187-1f938d438aba",
   "metadata": {},
   "outputs": [],
   "source": [
    "## lets store the pixel values denoted by many columns as matrix data, so one 2d matrix represents one image\n",
    "images = pixels.to_numpy().reshape(-1, 28, 28) # 3d matrix of with 42000 images with each being being of shape 28*28"
   ]
  },
  {
   "cell_type": "markdown",
   "id": "88680478-1fa9-4ff2-a94f-cfdcd632215e",
   "metadata": {},
   "source": [
    "We are doing this step so that it becomes easier to propogate through the implementation of various feature extraction technique that will be explored later on in this notebook"
   ]
  },
  {
   "cell_type": "code",
   "execution_count": 7,
   "id": "3b7889ab-b36f-430e-a774-5f046a5984bc",
   "metadata": {},
   "outputs": [
    {
     "data": {
      "text/plain": [
       "Text(0.5, 1.0, 'Label: 9')"
      ]
     },
     "execution_count": 7,
     "metadata": {},
     "output_type": "execute_result"
    },
    {
     "data": {
      "image/png": "[encoded data removed]",
      "text/plain": [
       "<Figure size 400x400 with 1 Axes>"
      ]
     },
     "metadata": {},
     "output_type": "display_data"
    }
   ],
   "source": [
    "## lets see an example image\n",
    "plt.figure(figsize=(4,4))\n",
    "idx = 323\n",
    "\n",
    "# images are stored in the \"images\" variable and each index of \"images\" denotes one image \n",
    "plt.imshow(images[idx], cmap='gray')\n",
    "plt.title('Label: ' + str(labels[idx]))"
   ]
  },
  {
   "cell_type": "code",
   "execution_count": 8,
   "id": "2a4a2599-afe0-4d93-ace6-0118667e9bf0",
   "metadata": {},
   "outputs": [
    {
     "data": {
      "text/plain": [
       "label\n",
       "1    4684\n",
       "7    4401\n",
       "3    4351\n",
       "9    4188\n",
       "2    4177\n",
       "6    4137\n",
       "0    4132\n",
       "4    4072\n",
       "8    4063\n",
       "5    3795\n",
       "Name: count, dtype: int64"
      ]
     },
     "execution_count": 8,
     "metadata": {},
     "output_type": "execute_result"
    }
   ],
   "source": [
    "data['label'].value_counts()"
   ]
  },
  {
   "cell_type": "markdown",
   "id": "dc92d345-639e-464b-b1bc-912b587841c1",
   "metadata": {},
   "source": [
    "The data is split fairly evenly so we wouldnt need to focus on sampling techniques"
   ]
  },
  {
   "cell_type": "code",
   "execution_count": 9,
   "id": "49b55d13-10d1-44b0-86fe-270098c45fa0",
   "metadata": {},
   "outputs": [],
   "source": [
    "x_train, x_test, y_train, y_test = train_test_split(pixels, labels, test_size=0.2, random_state = 42)"
   ]
  },
  {
   "cell_type": "code",
   "execution_count": 10,
   "id": "d974a664-638b-416e-b896-44835ff9b542",
   "metadata": {},
   "outputs": [
    {
     "name": "stdout",
     "output_type": "stream",
     "text": [
      "Best Hyperparameters: {'C': 0.1, 'gamma': 'auto', 'kernel': 'poly'}\n",
      "Accuracy: 0.9728571428571429\n",
      "Confusion Matrix:\n",
      "[[810   0   1   0   1   0   3   0   1   0]\n",
      " [  0 904   2   0   1   0   1   1   0   0]\n",
      " [  3   9 815   2   4   3   4   2   4   0]\n",
      " [  3   3   5 898   0   9   0   4   9   6]\n",
      " [  2   0   2   0 820   1   4   1   0   9]\n",
      " [  0   1   1  12   3 670   9   0   4   2]\n",
      " [  4   1   3   0   1   3 771   0   2   0]\n",
      " [  0   2   4   0   3   0   0 878   1   5]\n",
      " [  0   6   3   6   6   5   0   1 803   5]\n",
      " [  2   2   1   7   6   6   0   8   3 803]]\n",
      "Classification Report:\n",
      "              precision    recall  f1-score   support\n",
      "\n",
      "           0       0.98      0.99      0.99       816\n",
      "           1       0.97      0.99      0.98       909\n",
      "           2       0.97      0.96      0.97       846\n",
      "           3       0.97      0.96      0.96       937\n",
      "           4       0.97      0.98      0.97       839\n",
      "           5       0.96      0.95      0.96       702\n",
      "           6       0.97      0.98      0.98       785\n",
      "           7       0.98      0.98      0.98       893\n",
      "           8       0.97      0.96      0.97       835\n",
      "           9       0.97      0.96      0.96       838\n",
      "\n",
      "    accuracy                           0.97      8400\n",
      "   macro avg       0.97      0.97      0.97      8400\n",
      "weighted avg       0.97      0.97      0.97      8400\n",
      "\n"
     ]
    }
   ],
   "source": [
    "svm_classifier = SVC(random_state=42)\n",
    "param_grid = {\n",
    "    'C': [0.1],\n",
    "    'kernel': [ 'poly'],\n",
    "    'gamma': ['auto']\n",
    "}\n",
    "\n",
    "grid_search_svm = GridSearchCV(svm_classifier, param_grid, cv=5)\n",
    "grid_search_svm.fit(x_train, y_train)\n",
    "\n",
    "best_params = grid_search_svm.best_params_\n",
    "print(f\"Best Hyperparameters: {best_params}\")\n",
    "\n",
    "# Evaluate on the test set\n",
    "model_svm = grid_search_svm.best_estimator_\n",
    "\n",
    "# Make predictions\n",
    "y_pred_svm = model_svm.predict(x_test)\n",
    "\n",
    "# Check accuracy of model\n",
    "accuracy_svm = accuracy_score(y_test, y_pred_svm)\n",
    "conf_matrix_svm = confusion_matrix(y_test, y_pred_svm)\n",
    "classification_rep_svm = classification_report(y_test, y_pred_svm)\n",
    "\n",
    "print(f\"Accuracy: {accuracy_svm}\")\n",
    "print(f\"Confusion Matrix:\\n{conf_matrix_svm}\")\n",
    "print(f\"Classification Report:\\n{classification_rep_svm}\")"
   ]
  },
  {
   "cell_type": "code",
   "execution_count": null,
   "id": "e3433113-9e4d-4651-b373-c4c9783445ad",
   "metadata": {},
   "outputs": [],
   "source": [
    "x_test.shape,y_test.shape"
   ]
  },
  {
   "cell_type": "code",
   "execution_count": null,
   "id": "ea479f9a-085a-4252-b87e-5db8a0664ef7",
   "metadata": {},
   "outputs": [],
   "source": [
    "errors"
   ]
  },
  {
   "cell_type": "code",
   "execution_count": null,
   "id": "6af925f7-c2af-4b9e-8380-81534fa99dc1",
   "metadata": {},
   "outputs": [],
   "source": [
    "x_test"
   ]
  },
  {
   "cell_type": "code",
   "execution_count": null,
   "id": "88b474fa-5848-4f4c-8d5b-f45bcbaede3b",
   "metadata": {},
   "outputs": [],
   "source": [
    "errors = np.where(y_pred_svm != y_test)[0]\n",
    "\n",
    "# Display misclassified images\n",
    "misclassified_images = x_test_images[errors]\n",
    "misclassified_labels = y_test[errors]\n",
    "predicted_labels = y_pred_svm[errors]"
   ]
  },
  {
   "cell_type": "code",
   "execution_count": null,
   "id": "178912f3-0dd8-4058-92d4-8122b1e4bf42",
   "metadata": {},
   "outputs": [],
   "source": []
  }
 ],
 "metadata": {
  "kernelspec": {
   "display_name": "Python 3 (ipykernel)",
   "language": "python",
   "name": "python3"
  },
  "language_info": {
   "codemirror_mode": {
    "name": "ipython",
    "version": 3
   },
   "file_extension": ".py",
   "mimetype": "text/x-python",
   "name": "python",
   "nbconvert_exporter": "python",
   "pygments_lexer": "ipython3",
   "version": "3.10.13"
  }
 },
 "nbformat": 4,
 "nbformat_minor": 5
}
