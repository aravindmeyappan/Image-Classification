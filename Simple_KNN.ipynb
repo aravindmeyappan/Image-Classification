{
 "cells": [
  {
   "cell_type": "code",
   "execution_count": 16,
   "id": "1c009739-91df-4cac-9243-a7536ff2c195",
   "metadata": {},
   "outputs": [],
   "source": [
    "import numpy as np\n",
    "import matplotlib.pyplot as plt\n",
    "from statistics import mode\n",
    "from KNN_simple import K_Nearest_Neighbors"
   ]
  },
  {
   "cell_type": "code",
   "execution_count": 17,
   "id": "b7f46140-251d-48b8-bd27-07346cb8d25b",
   "metadata": {},
   "outputs": [],
   "source": [
    "points = {'blue': [[2,4], [1,3], [2,3], [3,2], [2,1]],\n",
    "          'orange': [[5,6], [4,5], [4,6], [6,6], [5,4]]}\n",
    "\n",
    "new_point = [3,3]"
   ]
  },
  {
   "cell_type": "code",
   "execution_count": 18,
   "id": "e8859363-7c39-437a-ad1b-6c870c748e42",
   "metadata": {},
   "outputs": [
    {
     "name": "stdout",
     "output_type": "stream",
     "text": [
      "blue\n"
     ]
    }
   ],
   "source": [
    "clf = K_Nearest_Neighbors(k=3)\n",
    "clf.fit(points)\n",
    "print(clf.predict(new_point))"
   ]
  },
  {
   "cell_type": "code",
   "execution_count": null,
   "id": "1b196b05-cffe-475e-9fa4-fd4df2dbca2c",
   "metadata": {},
   "outputs": [],
   "source": []
  }
 ],
 "metadata": {
  "kernelspec": {
   "display_name": "Python 3 (ipykernel)",
   "language": "python",
   "name": "python3"
  },
  "language_info": {
   "codemirror_mode": {
    "name": "ipython",
    "version": 3
   },
   "file_extension": ".py",
   "mimetype": "text/x-python",
   "name": "python",
   "nbconvert_exporter": "python",
   "pygments_lexer": "ipython3",
   "version": "3.10.13"
  }
 },
 "nbformat": 4,
 "nbformat_minor": 5
}
