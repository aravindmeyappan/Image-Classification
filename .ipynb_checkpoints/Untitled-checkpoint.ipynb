{
 "cells": [
  {
   "cell_type": "code",
   "execution_count": 1,
   "id": "1069eff9-dfef-4668-af90-52e4e5e5b938",
   "metadata": {},
   "outputs": [],
   "source": [
    "from sklearn.svm import SVC\n",
    "import numpy as np"
   ]
  },
  {
   "cell_type": "code",
   "execution_count": 2,
   "id": "f6700329-113f-4f11-98b9-5142311123b2",
   "metadata": {},
   "outputs": [],
   "source": [
    "class OneVsAllSVM:\n",
    "    def __init__(self, kernel='linear', C=1.0):\n",
    "        self.kernel = kernel\n",
    "        self.C = C\n",
    "        self.models = []\n",
    "\n",
    "    def fit(self, X, y):\n",
    "        unique_classes = np.unique(y)\n",
    "        num_classes = len(unique_classes)\n",
    "\n",
    "        for i in range(num_classes):\n",
    "            # Create binary labels for the current class\n",
    "            binary_labels = np.where(y == unique_classes[i], 1, 0)\n",
    "\n",
    "            # Train a binary SVM for the current class\n",
    "            model = SVC(kernel=self.kernel, C=self.C)\n",
    "            model.fit(X, binary_labels)\n",
    "            self.models.append(model)\n",
    "\n",
    "    def predict(self, X):\n",
    "        # Make predictions using all binary classifiers\n",
    "        predictions = [model.predict(X) for model in self.models]\n",
    "\n",
    "        # Select the class with the highest decision value\n",
    "        predicted_labels = np.argmax(predictions, axis=0)\n",
    "\n",
    "        # Map back to original class labels\n",
    "        unique_classes = np.unique(predicted_labels)\n",
    "        class_mapping = {i: unique_classes[i] for i in range(len(unique_classes))}\n",
    "        mapped_labels = np.vectorize(class_mapping.get)(predicted_labels)\n",
    "\n",
    "        return mapped_labels\n",
    "\n",
    "\n",
    "# Example usage:\n",
    "# Assuming X_train and y_train are your training data and labels\n",
    "# And X_test is your test data\n",
    "\n",
    "# Create and train the One-vs-All SVM model\n",
    "ova_svm = OneVsAllSVM(kernel='linear', C=1.0)\n",
    "ova_svm.fit(X_train, y_train)\n",
    "\n",
    "# Make predictions on the test data\n",
    "predicted_labels = ova_svm.predict(X_test)\n",
    "\n",
    "# Now, 'predicted_labels' contains the predicted labels for the test data\n"
   ]
  },
  {
   "cell_type": "code",
   "execution_count": null,
   "id": "fa1043f1-eb41-4024-a715-7c3f5f86242d",
   "metadata": {},
   "outputs": [],
   "source": []
  }
 ],
 "metadata": {
  "kernelspec": {
   "display_name": "Python 3 (ipykernel)",
   "language": "python",
   "name": "python3"
  },
  "language_info": {
   "codemirror_mode": {
    "name": "ipython",
    "version": 3
   },
   "file_extension": ".py",
   "mimetype": "text/x-python",
   "name": "python",
   "nbconvert_exporter": "python",
   "pygments_lexer": "ipython3",
   "version": "3.10.13"
  }
 },
 "nbformat": 4,
 "nbformat_minor": 5
}
