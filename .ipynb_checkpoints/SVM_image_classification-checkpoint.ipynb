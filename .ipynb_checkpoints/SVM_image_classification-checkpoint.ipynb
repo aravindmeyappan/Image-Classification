{
 "cells": [
  {
   "cell_type": "code",
   "execution_count": 1,
   "id": "07e03409-b820-48cd-9aa1-600efcd64fe7",
   "metadata": {},
   "outputs": [],
   "source": [
    "import pandas as pd\n",
    "import numpy as np\n",
    "import os\n",
    "import matplotlib.pyplot as plt\n",
    "import matplotlib\n",
    "plt.rcdefaults()\n",
    "%matplotlib inline\n",
    "import random\n",
    "import seaborn as sns\n",
    "\n",
    "\n",
    "from time import time\n",
    "from sklearn import datasets\n",
    "from collections import Counter\n",
    "from statistics import mode\n",
    "from IPython.display import display, HTML\n",
    "from itertools import chain\n",
    "from sklearn.svm import SVC, LinearSVC\n",
    "from sklearn.model_selection import ParameterGrid, GridSearchCV, train_test_split\n",
    "from sklearn.metrics import accuracy_score, confusion_matrix, classification_report, ConfusionMatrixDisplay\n",
    "import warnings\n",
    "warnings.filterwarnings('ignore')"
   ]
  },
  {
   "cell_type": "markdown",
   "id": "9c8d5221-a2d3-4584-8326-9eaf2e853d20",
   "metadata": {},
   "source": [
    "### Loading the Dataset"
   ]
  },
  {
   "cell_type": "markdown",
   "id": "58ea01bb-5184-42a0-b654-cb0477c91413",
   "metadata": {},
   "source": [
    "We are using a smaller dataset due to computational constraints, but ca be extended to larger datasets like MNIST"
   ]
  },
  {
   "cell_type": "code",
   "execution_count": 2,
   "id": "10f99cc4-829f-433f-8d18-07a6eab8d0ed",
   "metadata": {},
   "outputs": [
    {
     "name": "stdout",
     "output_type": "stream",
     "text": [
      "x_train shape: (1437, 64)\n",
      "y_train shape: (1437,)\n",
      "x_test shape: (360, 64)\n",
      "y_test shape: (360,)\n"
     ]
    }
   ],
   "source": [
    "digits = datasets.load_digits()\n",
    "\n",
    "# Split the dataset into training and testing sets\n",
    "x_train, x_test, y_train, y_test = train_test_split(\n",
    "    digits.data, digits.target, test_size=0.2, random_state=42\n",
    ")\n",
    "\n",
    "# Display the shape of the resulting sets\n",
    "print(\"x_train shape:\", x_train.shape)\n",
    "print(\"y_train shape:\", y_train.shape)\n",
    "print(\"x_test shape:\", x_test.shape)\n",
    "print(\"y_test shape:\", y_test.shape)"
   ]
  },
  {
   "cell_type": "markdown",
   "id": "5394d964-f9f1-4823-adcb-933dfa385f69",
   "metadata": {},
   "source": [
    "##### Viewing a few Images"
   ]
  },
  {
   "cell_type": "code",
   "execution_count": 3,
   "id": "7accc954-d3db-474a-a9fd-fb028bafcbf4",
   "metadata": {},
   "outputs": [
    {
     "data": {
      "image/png": "[encoded data removed]",
      "text/plain": [
       "<Figure size 1200x450 with 41 Axes>"
      ]
     },
     "metadata": {},
     "output_type": "display_data"
    }
   ],
   "source": [
    "classes = [\"0\", \"1\", \"2\", \"3\", \"4\", \"5\", \"6\", \"7\", \"8\", \"9\"]\n",
    "num_classes = len(classes)\n",
    "samples = 4\n",
    "\n",
    "plt.subplots(figsize=(12, 4.5))\n",
    "for y, cls in enumerate(classes):\n",
    "    idxs = np.nonzero([i == y for i in y_train])\n",
    "    idxs = np.random.choice(idxs[0], samples, replace=False)\n",
    "    for i , idx in enumerate(idxs):\n",
    "        plt_idx = i * num_classes + y + 1\n",
    "        plt.subplot(samples, num_classes, plt_idx)\n",
    "        plt.imshow(x_train[idx].reshape((8, 8)))\n",
    "        plt.axis(\"off\")\n",
    "        if i == 0:\n",
    "            plt.title(cls)\n",
    "        \n",
    "\n",
    "plt.show()"
   ]
  },
  {
   "cell_type": "code",
   "execution_count": 4,
   "id": "69fd50a6-8954-46e7-a147-c1a828a37df6",
   "metadata": {},
   "outputs": [],
   "source": [
    "# we want our images to be flattened as it will help in our computation\n",
    "x_train = x_train.reshape((x_train.shape[0], -1))\n",
    "x_test = x_test.reshape((x_test.shape[0], -1))"
   ]
  },
  {
   "cell_type": "markdown",
   "id": "0cbc263c-ce34-41d2-95b3-4c85ca9bcb4b",
   "metadata": {},
   "source": [
    "### LinearSVC Model"
   ]
  },
  {
   "cell_type": "code",
   "execution_count": 5,
   "id": "30c910b9-9b81-4be6-8bc2-ac02074902ac",
   "metadata": {},
   "outputs": [
    {
     "data": {
      "text/html": [
       "<style>#sk-container-id-1 {color: black;}#sk-container-id-1 pre{padding: 0;}#sk-container-id-1 div.sk-toggleable {background-color: white;}#sk-container-id-1 label.sk-toggleable__label {cursor: pointer;display: block;width: 100%;margin-bottom: 0;padding: 0.3em;box-sizing: border-box;text-align: center;}#sk-container-id-1 label.sk-toggleable__label-arrow:before {content: \"▸\";float: left;margin-right: 0.25em;color: #696969;}#sk-container-id-1 label.sk-toggleable__label-arrow:hover:before {color: black;}#sk-container-id-1 div.sk-estimator:hover label.sk-toggleable__label-arrow:before {color: black;}#sk-container-id-1 div.sk-toggleable__content {max-height: 0;max-width: 0;overflow: hidden;text-align: left;background-color: #f0f8ff;}#sk-container-id-1 div.sk-toggleable__content pre {margin: 0.2em;color: black;border-radius: 0.25em;background-color: #f0f8ff;}#sk-container-id-1 input.sk-toggleable__control:checked~div.sk-toggleable__content {max-height: 200px;max-width: 100%;overflow: auto;}#sk-container-id-1 input.sk-toggleable__control:checked~label.sk-toggleable__label-arrow:before {content: \"▾\";}#sk-container-id-1 div.sk-estimator input.sk-toggleable__control:checked~label.sk-toggleable__label {background-color: #d4ebff;}#sk-container-id-1 div.sk-label input.sk-toggleable__control:checked~label.sk-toggleable__label {background-color: #d4ebff;}#sk-container-id-1 input.sk-hidden--visually {border: 0;clip: rect(1px 1px 1px 1px);clip: rect(1px, 1px, 1px, 1px);height: 1px;margin: -1px;overflow: hidden;padding: 0;position: absolute;width: 1px;}#sk-container-id-1 div.sk-estimator {font-family: monospace;background-color: #f0f8ff;border: 1px dotted black;border-radius: 0.25em;box-sizing: border-box;margin-bottom: 0.5em;}#sk-container-id-1 div.sk-estimator:hover {background-color: #d4ebff;}#sk-container-id-1 div.sk-parallel-item::after {content: \"\";width: 100%;border-bottom: 1px solid gray;flex-grow: 1;}#sk-container-id-1 div.sk-label:hover label.sk-toggleable__label {background-color: #d4ebff;}#sk-container-id-1 div.sk-serial::before {content: \"\";position: absolute;border-left: 1px solid gray;box-sizing: border-box;top: 0;bottom: 0;left: 50%;z-index: 0;}#sk-container-id-1 div.sk-serial {display: flex;flex-direction: column;align-items: center;background-color: white;padding-right: 0.2em;padding-left: 0.2em;position: relative;}#sk-container-id-1 div.sk-item {position: relative;z-index: 1;}#sk-container-id-1 div.sk-parallel {display: flex;align-items: stretch;justify-content: center;background-color: white;position: relative;}#sk-container-id-1 div.sk-item::before, #sk-container-id-1 div.sk-parallel-item::before {content: \"\";position: absolute;border-left: 1px solid gray;box-sizing: border-box;top: 0;bottom: 0;left: 50%;z-index: -1;}#sk-container-id-1 div.sk-parallel-item {display: flex;flex-direction: column;z-index: 1;position: relative;background-color: white;}#sk-container-id-1 div.sk-parallel-item:first-child::after {align-self: flex-end;width: 50%;}#sk-container-id-1 div.sk-parallel-item:last-child::after {align-self: flex-start;width: 50%;}#sk-container-id-1 div.sk-parallel-item:only-child::after {width: 0;}#sk-container-id-1 div.sk-dashed-wrapped {border: 1px dashed gray;margin: 0 0.4em 0.5em 0.4em;box-sizing: border-box;padding-bottom: 0.4em;background-color: white;}#sk-container-id-1 div.sk-label label {font-family: monospace;font-weight: bold;display: inline-block;line-height: 1.2em;}#sk-container-id-1 div.sk-label-container {text-align: center;}#sk-container-id-1 div.sk-container {/* jupyter's `normalize.less` sets `[hidden] { display: none; }` but bootstrap.min.css set `[hidden] { display: none !important; }` so we also need the `!important` here to be able to override the default hidden behavior on the sphinx rendered scikit-learn.org. See: https://github.com/scikit-learn/scikit-learn/issues/21755 */display: inline-block !important;position: relative;}#sk-container-id-1 div.sk-text-repr-fallback {display: none;}</style><div id=\"sk-container-id-1\" class=\"sk-top-container\"><div class=\"sk-text-repr-fallback\"><pre>LinearSVC(dual=False)</pre><b>In a Jupyter environment, please rerun this cell to show the HTML representation or trust the notebook. <br />On GitHub, the HTML representation is unable to render, please try loading this page with nbviewer.org.</b></div><div class=\"sk-container\" hidden><div class=\"sk-item\"><div class=\"sk-estimator sk-toggleable\"><input class=\"sk-toggleable__control sk-hidden--visually\" id=\"sk-estimator-id-1\" type=\"checkbox\" checked><label for=\"sk-estimator-id-1\" class=\"sk-toggleable__label sk-toggleable__label-arrow\">LinearSVC</label><div class=\"sk-toggleable__content\"><pre>LinearSVC(dual=False)</pre></div></div></div></div></div>"
      ],
      "text/plain": [
       "LinearSVC(dual=False)"
      ]
     },
     "execution_count": 5,
     "metadata": {},
     "output_type": "execute_result"
    }
   ],
   "source": [
    "svm = LinearSVC(dual=False)\n",
    "svm.fit(x_train, y_train)"
   ]
  },
  {
   "cell_type": "code",
   "execution_count": 6,
   "id": "99b1898c-e3ea-470d-b263-803768d7bd19",
   "metadata": {},
   "outputs": [
    {
     "data": {
      "text/plain": [
       "(10, 64)"
      ]
     },
     "execution_count": 6,
     "metadata": {},
     "output_type": "execute_result"
    }
   ],
   "source": [
    "svm.coef_.shape"
   ]
  },
  {
   "cell_type": "markdown",
   "id": "7cc2be0f-4373-4a11-9217-7e239667be9e",
   "metadata": {},
   "source": [
    "The input data in this case was an 8*8 image and total of 10 possible output classes were possible. so now SVM classifier learns a set of coefficients for each class available in the training set. we flattened our image and fed the each pixel as a feature. \n",
    "\n",
    "Therefore the data will have 64 features and 10 possible classes, the SVM classifier will learn a total of 64*10 coefficients. which is denoted by the shape of the coef_ attribute"
   ]
  },
  {
   "cell_type": "code",
   "execution_count": 7,
   "id": "f978ce06-44aa-4ee7-bf19-10a6f025454e",
   "metadata": {},
   "outputs": [
    {
     "data": {
      "text/plain": [
       "array([-5.04524819e-03, -4.13022595e+00, -8.14414113e-03, -4.90777667e-02,\n",
       "       -1.24460172e-03, -3.76516391e-02, -1.45771025e-02, -1.09360150e-02,\n",
       "       -2.56970630e+00, -2.11034152e+00])"
      ]
     },
     "execution_count": 7,
     "metadata": {},
     "output_type": "execute_result"
    }
   ],
   "source": [
    "svm.intercept_"
   ]
  },
  {
   "cell_type": "markdown",
   "id": "5a4cd244-ea43-4fe7-8694-49a2674331f4",
   "metadata": {},
   "source": [
    "Intercept or the bias term is one for every class, so the svm classifier learns 10 intercepts"
   ]
  },
  {
   "cell_type": "code",
   "execution_count": 8,
   "id": "e3f5ce68-610a-4b8f-b2ac-3246eb67091e",
   "metadata": {},
   "outputs": [
    {
     "data": {
      "text/plain": [
       "0.95"
      ]
     },
     "execution_count": 8,
     "metadata": {},
     "output_type": "execute_result"
    }
   ],
   "source": [
    "pred = svm.predict(x_test)\n",
    "accuracy_score(y_test, pred)"
   ]
  },
  {
   "cell_type": "code",
   "execution_count": 9,
   "id": "1c6f9a48-df18-4e76-81bb-cd8e8c4bdd57",
   "metadata": {},
   "outputs": [
    {
     "data": {
      "image/png": "[encoded data removed]",
      "text/plain": [
       "<Figure size 640x480 with 2 Axes>"
      ]
     },
     "metadata": {},
     "output_type": "display_data"
    }
   ],
   "source": [
    "confusion_matrix1 = confusion_matrix(y_test, pred)\n",
    "ConfusionMatrixDisplay.from_predictions(y_test, pred)\n",
    "plt.show()"
   ]
  },
  {
   "cell_type": "markdown",
   "id": "c6c0e946-8ee7-4b17-a12e-0c50be86fa6b",
   "metadata": {},
   "source": [
    "##### Looking at some of the wrongly classified Images"
   ]
  },
  {
   "cell_type": "code",
   "execution_count": 10,
   "id": "cb4ad8f8-c844-4ff8-bcf1-9a4408f84bf1",
   "metadata": {
    "scrolled": true
   },
   "outputs": [
    {
     "data": {
      "image/png": "[encoded data removed]",
      "text/plain": [
       "<Figure size 640x480 with 5 Axes>"
      ]
     },
     "metadata": {},
     "output_type": "display_data"
    }
   ],
   "source": [
    "incorrect_indices = y_test != pred\n",
    "num_samples = 5\n",
    "\n",
    "for i in range(num_samples):\n",
    "    lbl = y_test[incorrect_indices][i]\n",
    "    lbl2 = pred[incorrect_indices][i]\n",
    "    op = x_test[incorrect_indices][i].reshape((8,8))\n",
    "    plt.subplot(1, num_samples, i + 1)\n",
    "    plt.imshow(op, cmap='gray')\n",
    "    plt.title(f'True: {lbl}\\nPred: {lbl2}')\n",
    "    plt.axis('off')\n",
    "\n",
    "plt.show()"
   ]
  },
  {
   "cell_type": "markdown",
   "id": "f0502d1d-ea99-48d0-80bb-5f721fe9b8c8",
   "metadata": {},
   "source": [
    "##### Experimenting with different parameter values"
   ]
  },
  {
   "cell_type": "code",
   "execution_count": 11,
   "id": "2f239b73-c721-4564-af16-af296d3f68ee",
   "metadata": {},
   "outputs": [],
   "source": [
    "acc = []\n",
    "acc_tr = []\n",
    "coefficient = []\n",
    "for c in [0.0001,0.001,0.01,0.1,1,10,100,1000,10000]:\n",
    "    svm = LinearSVC(dual=False, C=c)\n",
    "    svm.fit(x_train, y_train)\n",
    "    coef = svm.coef_\n",
    "    \n",
    "    p_tr = svm.predict(x_train)\n",
    "    a_tr = accuracy_score(y_train, p_tr)\n",
    "    \n",
    "    pred = svm.predict(x_test)\n",
    "    a = accuracy_score(y_test, pred)\n",
    "    \n",
    "    coefficient.append(coef)\n",
    "    acc_tr.append(a_tr)\n",
    "    acc.append(a)"
   ]
  },
  {
   "cell_type": "code",
   "execution_count": 12,
   "id": "9fe789e0-dcf1-4101-8526-370fc99bd3b0",
   "metadata": {},
   "outputs": [
    {
     "data": {
      "image/png": "[encoded data removed]",
      "text/plain": [
       "<Figure size 1000x500 with 1 Axes>"
      ]
     },
     "metadata": {},
     "output_type": "display_data"
    }
   ],
   "source": [
    "c = [0.0001,0.001,0.01,0.1,1,10,100,1000,10000]\n",
    "\n",
    "plt.subplots(figsize=(10, 5))\n",
    "plt.semilogx(c, acc,'-gD' ,color='red' , label=\"Testing Accuracy\")\n",
    "plt.semilogx(c, acc_tr,'-gD' , label=\"Training Accuracy\")\n",
    "plt.grid(True)\n",
    "plt.xlabel(\"Cost Parameter C\")\n",
    "plt.ylabel(\"Accuracy\")\n",
    "plt.legend()\n",
    "plt.title('Accuracy versus the Cost Parameter C (log-scale)')\n",
    "plt.show()"
   ]
  },
  {
   "cell_type": "markdown",
   "id": "b881c0b0-2790-4b83-b59c-8d3dc37af4a9",
   "metadata": {},
   "source": [
    "##### Inference from Graph"
   ]
  },
  {
   "cell_type": "markdown",
   "id": "1256318c-3863-4b0c-95f2-3bb76d22e03a",
   "metadata": {},
   "source": [
    "\"C\" indicates the inverse of the regularization strength\n",
    "\n",
    "Generally we want the classifier to maximize the margin (or minimize the inverse of the margin) of separation, but in cases where the linear separability of the data isn't as obvious or in some cases, not available, then just maximising the margin may not work out or may result in overfitting to the training data, so we allow some slack in the prediction error, in a way to allow the classifier to make a few misclassifications in order to generalize a bit better, but allowing the errors (slack) without any constraints means that the classifier will run wild and classify all the images wrongly. so as a way to ensure there are some constraints to the allowed misclassifications, we add the errors made (scaled by some constant \"C\") due to misclassification to the objective function (minimizing the inverse of margin). \n",
    "\n",
    "1. Effectively if the \"C\" value is too large then its basically the same as going back to the original classifier with no slack or no misclassifications allowed, since a large value is added to the minimizing function and any misclassification made will add hugely to the function we try to minimize. \n",
    "2. If the \"C\" is too small, then the model allows misclassifications in order to leave out the noise and generalize better.\n",
    "\n",
    "* And in our data we see that we get the best test results when \"C\" is either 0.001 or 0.1 (because we are able to generalize better)\n",
    "* With higher \"C\" although the training set gives better accuracies, the classifier is overfitting which is why we see a drop in test scores"
   ]
  },
  {
   "cell_type": "markdown",
   "id": "458eadf1-0367-49cb-85be-7d07f95bcf69",
   "metadata": {},
   "source": [
    "In a way we can also say that as we increase the value of \"C\", on an average-\n",
    "1. The bias of the classifier (which is a measure of how well the classifier captures the underlying complexity of the data) keeps decreasing.\n",
    "2. The variance of the classifier (which captures how well the classifier is able to generalize) increases"
   ]
  },
  {
   "cell_type": "code",
   "execution_count": 13,
   "id": "ee5aa69a-8bf1-4c2b-a9be-71b82d79afe9",
   "metadata": {},
   "outputs": [
    {
     "name": "stdout",
     "output_type": "stream",
     "text": [
      "The highest test accuracy of 96.94 % was achieved with C = 0.001\n"
     ]
    }
   ],
   "source": [
    "# choosing the parameter that resulted in the highest test accuracy\n",
    "high_idx = np.argmax(np.array(acc))\n",
    "print(f\"The highest test accuracy of {round(acc[high_idx]*100,2)} % was achieved with C = {c[high_idx]}\")"
   ]
  },
  {
   "cell_type": "markdown",
   "id": "9e392f59-7fa6-4682-b734-b4b161ad9c52",
   "metadata": {},
   "source": [
    "#### L1 Regularization"
   ]
  },
  {
   "cell_type": "markdown",
   "id": "7607e208-a246-4549-84de-7a6d6d9ca25c",
   "metadata": {},
   "source": [
    "Since the LinearSVC uses L2 norm for regularization as default, we can try using L1 to see any differences"
   ]
  },
  {
   "cell_type": "code",
   "execution_count": 14,
   "id": "b46b9593-c214-4811-8e92-fc7a7d3bac97",
   "metadata": {},
   "outputs": [],
   "source": [
    "acc_l1 = []\n",
    "acc_tr_l1 = []\n",
    "coefficient_l1 = []\n",
    "for c in [0.0001,0.001,0.01,0.1,1,10,100,1000,10000]:\n",
    "    svm_l1 = LinearSVC(dual=False, C=c, penalty='l1')\n",
    "    svm_l1.fit(x_train, y_train)\n",
    "    coef = svm_l1.coef_\n",
    "    \n",
    "    p_tr = svm_l1.predict(x_train)\n",
    "    a_tr = accuracy_score(y_train, p_tr)\n",
    "    \n",
    "    pred = svm_l1.predict(x_test)\n",
    "    a = accuracy_score(y_test, pred)\n",
    "    \n",
    "    coefficient_l1.append(coef)\n",
    "    acc_tr_l1.append(a_tr)\n",
    "    acc_l1.append(a)"
   ]
  },
  {
   "cell_type": "code",
   "execution_count": 15,
   "id": "94af3b03-637c-46bb-a83b-a6004589d52d",
   "metadata": {},
   "outputs": [
    {
     "data": {
      "image/png": "[encoded data removed]",
      "text/plain": [
       "<Figure size 1000x500 with 1 Axes>"
      ]
     },
     "metadata": {},
     "output_type": "display_data"
    }
   ],
   "source": [
    "c = [0.0001,0.001,0.01,0.1,1,10,100,1000,10000]\n",
    "\n",
    "plt.subplots(figsize=(10, 5))\n",
    "plt.semilogx(c, acc_l1,'-gD' ,color='red' , label=\"Testing Accuracy\")\n",
    "plt.semilogx(c, acc_tr_l1,'-gD' , label=\"Training Accuracy\")\n",
    "plt.grid(True)\n",
    "plt.xlabel(\"Cost Parameter C\")\n",
    "plt.ylabel(\"Accuracy\")\n",
    "plt.legend()\n",
    "plt.title('Accuracy versus the Cost Parameter C (log-scale)')\n",
    "plt.show()"
   ]
  },
  {
   "cell_type": "markdown",
   "id": "019df151-26bf-4011-848c-971997eb78bb",
   "metadata": {},
   "source": [
    "We know that \"C\" is the inverse of regularization strength, so when \"C\" is too low that means the regularization strength is high. This means the classifier allows more misclassifications in order to generalize, but in the process ends up underfitting, we dont see the effect of decreasing \"C\" (increasing regularization strength) as much in l2 penalty.\n",
    "\n",
    "The reason is L1 encourages the ability to create sparse models more than L2. \n",
    "Basically since the absolute values or l1 norm is added in the objective function (which is the inverse of the margin as discussed), the classifier wants to minimize these absolute values as much as possible in order to get the maximum margin. this process results in few of the weights (coefficients) being set to 0 gradually and so only some of the features get used in the prediction, therefore resulting in underfitting.\n",
    "\n",
    "But in the case of L2 the classifier aims at minimizing the square of the weights (coefficients) which isnt as harsh as the L1 penalty and results in a smoothening and thus doesn't encourage sparse models as much (doesnt send some feature weights to 0)"
   ]
  },
  {
   "cell_type": "code",
   "execution_count": 16,
   "id": "14769526-8ddf-4ee4-9441-07039a5e84a1",
   "metadata": {},
   "outputs": [
    {
     "name": "stdout",
     "output_type": "stream",
     "text": [
      "The highest test accuracy of 96.39 % was achieved with C = 0.1\n"
     ]
    }
   ],
   "source": [
    "# choosing the parameter that resulted in the highest test accuracy with l1 penalty\n",
    "high_idx = np.argmax(np.array(acc_l1))\n",
    "print(f\"The highest test accuracy of {round(acc_l1[high_idx]*100,2)} % was achieved with C = {c[high_idx]}\")"
   ]
  },
  {
   "cell_type": "markdown",
   "id": "74bc7091-54ef-4c08-8ce2-c55aaedc9722",
   "metadata": {},
   "source": [
    "### SVC using Kernel Trick "
   ]
  },
  {
   "cell_type": "code",
   "execution_count": 17,
   "id": "cae675c5-6c4f-41d4-bcb2-91830f1047c8",
   "metadata": {},
   "outputs": [
    {
     "data": {
      "text/html": [
       "<style>#sk-container-id-2 {color: black;}#sk-container-id-2 pre{padding: 0;}#sk-container-id-2 div.sk-toggleable {background-color: white;}#sk-container-id-2 label.sk-toggleable__label {cursor: pointer;display: block;width: 100%;margin-bottom: 0;padding: 0.3em;box-sizing: border-box;text-align: center;}#sk-container-id-2 label.sk-toggleable__label-arrow:before {content: \"▸\";float: left;margin-right: 0.25em;color: #696969;}#sk-container-id-2 label.sk-toggleable__label-arrow:hover:before {color: black;}#sk-container-id-2 div.sk-estimator:hover label.sk-toggleable__label-arrow:before {color: black;}#sk-container-id-2 div.sk-toggleable__content {max-height: 0;max-width: 0;overflow: hidden;text-align: left;background-color: #f0f8ff;}#sk-container-id-2 div.sk-toggleable__content pre {margin: 0.2em;color: black;border-radius: 0.25em;background-color: #f0f8ff;}#sk-container-id-2 input.sk-toggleable__control:checked~div.sk-toggleable__content {max-height: 200px;max-width: 100%;overflow: auto;}#sk-container-id-2 input.sk-toggleable__control:checked~label.sk-toggleable__label-arrow:before {content: \"▾\";}#sk-container-id-2 div.sk-estimator input.sk-toggleable__control:checked~label.sk-toggleable__label {background-color: #d4ebff;}#sk-container-id-2 div.sk-label input.sk-toggleable__control:checked~label.sk-toggleable__label {background-color: #d4ebff;}#sk-container-id-2 input.sk-hidden--visually {border: 0;clip: rect(1px 1px 1px 1px);clip: rect(1px, 1px, 1px, 1px);height: 1px;margin: -1px;overflow: hidden;padding: 0;position: absolute;width: 1px;}#sk-container-id-2 div.sk-estimator {font-family: monospace;background-color: #f0f8ff;border: 1px dotted black;border-radius: 0.25em;box-sizing: border-box;margin-bottom: 0.5em;}#sk-container-id-2 div.sk-estimator:hover {background-color: #d4ebff;}#sk-container-id-2 div.sk-parallel-item::after {content: \"\";width: 100%;border-bottom: 1px solid gray;flex-grow: 1;}#sk-container-id-2 div.sk-label:hover label.sk-toggleable__label {background-color: #d4ebff;}#sk-container-id-2 div.sk-serial::before {content: \"\";position: absolute;border-left: 1px solid gray;box-sizing: border-box;top: 0;bottom: 0;left: 50%;z-index: 0;}#sk-container-id-2 div.sk-serial {display: flex;flex-direction: column;align-items: center;background-color: white;padding-right: 0.2em;padding-left: 0.2em;position: relative;}#sk-container-id-2 div.sk-item {position: relative;z-index: 1;}#sk-container-id-2 div.sk-parallel {display: flex;align-items: stretch;justify-content: center;background-color: white;position: relative;}#sk-container-id-2 div.sk-item::before, #sk-container-id-2 div.sk-parallel-item::before {content: \"\";position: absolute;border-left: 1px solid gray;box-sizing: border-box;top: 0;bottom: 0;left: 50%;z-index: -1;}#sk-container-id-2 div.sk-parallel-item {display: flex;flex-direction: column;z-index: 1;position: relative;background-color: white;}#sk-container-id-2 div.sk-parallel-item:first-child::after {align-self: flex-end;width: 50%;}#sk-container-id-2 div.sk-parallel-item:last-child::after {align-self: flex-start;width: 50%;}#sk-container-id-2 div.sk-parallel-item:only-child::after {width: 0;}#sk-container-id-2 div.sk-dashed-wrapped {border: 1px dashed gray;margin: 0 0.4em 0.5em 0.4em;box-sizing: border-box;padding-bottom: 0.4em;background-color: white;}#sk-container-id-2 div.sk-label label {font-family: monospace;font-weight: bold;display: inline-block;line-height: 1.2em;}#sk-container-id-2 div.sk-label-container {text-align: center;}#sk-container-id-2 div.sk-container {/* jupyter's `normalize.less` sets `[hidden] { display: none; }` but bootstrap.min.css set `[hidden] { display: none !important; }` so we also need the `!important` here to be able to override the default hidden behavior on the sphinx rendered scikit-learn.org. See: https://github.com/scikit-learn/scikit-learn/issues/21755 */display: inline-block !important;position: relative;}#sk-container-id-2 div.sk-text-repr-fallback {display: none;}</style><div id=\"sk-container-id-2\" class=\"sk-top-container\"><div class=\"sk-text-repr-fallback\"><pre>SVC()</pre><b>In a Jupyter environment, please rerun this cell to show the HTML representation or trust the notebook. <br />On GitHub, the HTML representation is unable to render, please try loading this page with nbviewer.org.</b></div><div class=\"sk-container\" hidden><div class=\"sk-item\"><div class=\"sk-estimator sk-toggleable\"><input class=\"sk-toggleable__control sk-hidden--visually\" id=\"sk-estimator-id-2\" type=\"checkbox\" checked><label for=\"sk-estimator-id-2\" class=\"sk-toggleable__label sk-toggleable__label-arrow\">SVC</label><div class=\"sk-toggleable__content\"><pre>SVC()</pre></div></div></div></div></div>"
      ],
      "text/plain": [
       "SVC()"
      ]
     },
     "execution_count": 17,
     "metadata": {},
     "output_type": "execute_result"
    }
   ],
   "source": [
    "svm_rbf = SVC(C=1.0, kernel='rbf',)\n",
    "svm_rbf.fit(x_train, y_train)"
   ]
  },
  {
   "cell_type": "code",
   "execution_count": 18,
   "id": "7d2ca6f1-e037-4247-909e-1b595b3f9bef",
   "metadata": {},
   "outputs": [
    {
     "data": {
      "text/plain": [
       "(9, 650)"
      ]
     },
     "execution_count": 18,
     "metadata": {},
     "output_type": "execute_result"
    }
   ],
   "source": [
    "svm_rbf.dual_coef_ .shape"
   ]
  },
  {
   "cell_type": "markdown",
   "id": "8dd55cf2-a80d-4e3f-9510-63b16cd3326c",
   "metadata": {},
   "source": [
    "So now we see that there isn't a coefficient attribute like the linearSVC that is because the SVC using kernel trick only computes the dual coefficients (which denote the coefficient terms in the dual problem which are the lagrangian multipliers learnt during training). \n",
    "\n",
    "Since we take a dot product of the input features with the support vectors, each weighted by the corresponding dual coefficient (lagrangian multiplier) the coefficients are only there for the support vectors that are crucial for the decision function in case of a kernel based classifier. \n",
    "\n",
    "so the number of coefficients will be the number of support vectors times the (number of class-1) times the number of support vectors. "
   ]
  },
  {
   "cell_type": "code",
   "execution_count": 19,
   "id": "02e90de9-8dff-47b8-b2c2-8cda2f9f632f",
   "metadata": {},
   "outputs": [
    {
     "data": {
      "text/plain": [
       "(650, 64)"
      ]
     },
     "execution_count": 19,
     "metadata": {},
     "output_type": "execute_result"
    }
   ],
   "source": [
    "svm_rbf.support_vectors_.shape"
   ]
  },
  {
   "cell_type": "markdown",
   "id": "03845930-1b5d-4f52-9fc9-826b1f122fe9",
   "metadata": {},
   "source": [
    "The support vectors are basically the initial data points (images) that influence the decision boundary. and we see that in our case that number turns out to be 650. so essentially if we keep this 650 support vectors and decide to remove the other points (images) we will still get the same decision boundary. "
   ]
  },
  {
   "cell_type": "markdown",
   "id": "2f077990-1548-4b56-b156-e4b931759b60",
   "metadata": {},
   "source": [
    "##### Lets look at few of these support vectors"
   ]
  },
  {
   "cell_type": "code",
   "execution_count": 20,
   "id": "7f5bf791-17e5-4225-b83f-91d37177b993",
   "metadata": {},
   "outputs": [
    {
     "data": {
      "image/png": "[encoded data removed]",
      "text/plain": [
       "<Figure size 640x480 with 5 Axes>"
      ]
     },
     "metadata": {},
     "output_type": "display_data"
    }
   ],
   "source": [
    "support_indices = svm_rbf.support_\n",
    "support_vec = svm_rbf.support_vectors_\n",
    "for i in range(5):\n",
    "    op = support_vec[50+i].reshape((8,8))\n",
    "    lbl = y_train[[support_indices][0][50+i]]\n",
    "    plt.subplot(1, 5, i + 1)\n",
    "    plt.imshow(op, cmap='gray')\n",
    "    plt.title(f'True: {lbl}')\n",
    "\n",
    "plt.show()"
   ]
  },
  {
   "cell_type": "code",
   "execution_count": 21,
   "id": "ddc58fc6-1f21-4d2c-9543-5c9b0b36ec18",
   "metadata": {},
   "outputs": [
    {
     "data": {
      "text/plain": [
       "0.9861111111111112"
      ]
     },
     "execution_count": 21,
     "metadata": {},
     "output_type": "execute_result"
    }
   ],
   "source": [
    "pred = svm_rbf.predict(x_test)\n",
    "accuracy_score(y_test, pred)"
   ]
  },
  {
   "cell_type": "code",
   "execution_count": 22,
   "id": "ce32fe99-7e1e-4cac-80e9-5470971578a8",
   "metadata": {},
   "outputs": [
    {
     "data": {
      "image/png": "[encoded data removed]",
      "text/plain": [
       "<Figure size 640x480 with 2 Axes>"
      ]
     },
     "metadata": {},
     "output_type": "display_data"
    }
   ],
   "source": [
    "confusion_matrix2 = confusion_matrix(y_test, pred)\n",
    "ConfusionMatrixDisplay.from_predictions(y_test, pred)\n",
    "plt.show()"
   ]
  },
  {
   "cell_type": "markdown",
   "id": "f1f2806b-a522-4d16-ac04-5533f87fcacb",
   "metadata": {},
   "source": [
    "#### Using multiple values of C and gamma"
   ]
  },
  {
   "cell_type": "code",
   "execution_count": 27,
   "id": "da789fef-bfe9-4ff3-8006-41f1eb55cb2d",
   "metadata": {},
   "outputs": [],
   "source": [
    "coefficient = []\n",
    "n_supp = []\n",
    "sup_vec = []\n",
    "i = 0\n",
    "df = pd.DataFrame(columns = ['c','gamma','train_acc','test_acc'])\n",
    "for c in [0.01, 0.1, 1, 10, 100]:\n",
    "    for g in [0.01, 0.1, 1, 10, 100, 'scale']:\n",
    "        svm_rbf = SVC(kernel='rbf', C=c, gamma=g)\n",
    "        model = svm_rbf.fit(x_train, y_train)\n",
    "        globals()['model%s' % i] = model\n",
    "        d_coef = svm_rbf.dual_coef_\n",
    "        support = svm_rbf.n_support_\n",
    "        sv = svm_rbf.support_\n",
    "    \n",
    "        p_tr = svm_rbf.predict(x_train)\n",
    "        a_tr = accuracy_score(y_train, p_tr)\n",
    "    \n",
    "        pred = svm_rbf.predict(x_test)\n",
    "        a = accuracy_score(y_test, pred)\n",
    "    \n",
    "        coefficient.append(d_coef)\n",
    "        n_supp.append(support)\n",
    "        sup_vec.append(sv)\n",
    "        df.loc[i] = [c,g,a_tr,a]\n",
    "        i=i+1"
   ]
  },
  {
   "cell_type": "code",
   "execution_count": 28,
   "id": "0bca5b42-4696-416c-b4c3-51077f85fa43",
   "metadata": {
    "scrolled": true
   },
   "outputs": [
    {
     "data": {
      "text/html": [
       "<div>\n",
       "<style scoped>\n",
       "    .dataframe tbody tr th:only-of-type {\n",
       "        vertical-align: middle;\n",
       "    }\n",
       "\n",
       "    .dataframe tbody tr th {\n",
       "        vertical-align: top;\n",
       "    }\n",
       "\n",
       "    .dataframe thead th {\n",
       "        text-align: right;\n",
       "    }\n",
       "</style>\n",
       "<table border=\"1\" class=\"dataframe\">\n",
       "  <thead>\n",
       "    <tr style=\"text-align: right;\">\n",
       "      <th></th>\n",
       "      <th>c</th>\n",
       "      <th>gamma</th>\n",
       "      <th>train_acc</th>\n",
       "      <th>test_acc</th>\n",
       "    </tr>\n",
       "  </thead>\n",
       "  <tbody>\n",
       "    <tr>\n",
       "      <th>0</th>\n",
       "      <td>0.01</td>\n",
       "      <td>0.01</td>\n",
       "      <td>0.107168</td>\n",
       "      <td>0.077778</td>\n",
       "    </tr>\n",
       "    <tr>\n",
       "      <th>1</th>\n",
       "      <td>0.01</td>\n",
       "      <td>0.1</td>\n",
       "      <td>0.107168</td>\n",
       "      <td>0.077778</td>\n",
       "    </tr>\n",
       "    <tr>\n",
       "      <th>2</th>\n",
       "      <td>0.01</td>\n",
       "      <td>1.0</td>\n",
       "      <td>0.107168</td>\n",
       "      <td>0.077778</td>\n",
       "    </tr>\n",
       "    <tr>\n",
       "      <th>3</th>\n",
       "      <td>0.01</td>\n",
       "      <td>10.0</td>\n",
       "      <td>0.107168</td>\n",
       "      <td>0.077778</td>\n",
       "    </tr>\n",
       "    <tr>\n",
       "      <th>4</th>\n",
       "      <td>0.01</td>\n",
       "      <td>100.0</td>\n",
       "      <td>0.107168</td>\n",
       "      <td>0.077778</td>\n",
       "    </tr>\n",
       "    <tr>\n",
       "      <th>5</th>\n",
       "      <td>0.01</td>\n",
       "      <td>scale</td>\n",
       "      <td>0.180237</td>\n",
       "      <td>0.130556</td>\n",
       "    </tr>\n",
       "    <tr>\n",
       "      <th>6</th>\n",
       "      <td>0.10</td>\n",
       "      <td>0.01</td>\n",
       "      <td>0.107168</td>\n",
       "      <td>0.077778</td>\n",
       "    </tr>\n",
       "    <tr>\n",
       "      <th>7</th>\n",
       "      <td>0.10</td>\n",
       "      <td>0.1</td>\n",
       "      <td>0.107168</td>\n",
       "      <td>0.077778</td>\n",
       "    </tr>\n",
       "    <tr>\n",
       "      <th>8</th>\n",
       "      <td>0.10</td>\n",
       "      <td>1.0</td>\n",
       "      <td>0.107168</td>\n",
       "      <td>0.077778</td>\n",
       "    </tr>\n",
       "    <tr>\n",
       "      <th>9</th>\n",
       "      <td>0.10</td>\n",
       "      <td>10.0</td>\n",
       "      <td>0.107168</td>\n",
       "      <td>0.077778</td>\n",
       "    </tr>\n",
       "    <tr>\n",
       "      <th>10</th>\n",
       "      <td>0.10</td>\n",
       "      <td>100.0</td>\n",
       "      <td>0.107168</td>\n",
       "      <td>0.077778</td>\n",
       "    </tr>\n",
       "    <tr>\n",
       "      <th>11</th>\n",
       "      <td>0.10</td>\n",
       "      <td>scale</td>\n",
       "      <td>0.964509</td>\n",
       "      <td>0.950000</td>\n",
       "    </tr>\n",
       "    <tr>\n",
       "      <th>12</th>\n",
       "      <td>1.00</td>\n",
       "      <td>0.01</td>\n",
       "      <td>1.000000</td>\n",
       "      <td>0.791667</td>\n",
       "    </tr>\n",
       "    <tr>\n",
       "      <th>13</th>\n",
       "      <td>1.00</td>\n",
       "      <td>0.1</td>\n",
       "      <td>1.000000</td>\n",
       "      <td>0.077778</td>\n",
       "    </tr>\n",
       "    <tr>\n",
       "      <th>14</th>\n",
       "      <td>1.00</td>\n",
       "      <td>1.0</td>\n",
       "      <td>1.000000</td>\n",
       "      <td>0.077778</td>\n",
       "    </tr>\n",
       "    <tr>\n",
       "      <th>15</th>\n",
       "      <td>1.00</td>\n",
       "      <td>10.0</td>\n",
       "      <td>1.000000</td>\n",
       "      <td>0.077778</td>\n",
       "    </tr>\n",
       "    <tr>\n",
       "      <th>16</th>\n",
       "      <td>1.00</td>\n",
       "      <td>100.0</td>\n",
       "      <td>1.000000</td>\n",
       "      <td>0.077778</td>\n",
       "    </tr>\n",
       "    <tr>\n",
       "      <th>17</th>\n",
       "      <td>1.00</td>\n",
       "      <td>scale</td>\n",
       "      <td>0.996521</td>\n",
       "      <td>0.986111</td>\n",
       "    </tr>\n",
       "    <tr>\n",
       "      <th>18</th>\n",
       "      <td>10.00</td>\n",
       "      <td>0.01</td>\n",
       "      <td>1.000000</td>\n",
       "      <td>0.813889</td>\n",
       "    </tr>\n",
       "    <tr>\n",
       "      <th>19</th>\n",
       "      <td>10.00</td>\n",
       "      <td>0.1</td>\n",
       "      <td>1.000000</td>\n",
       "      <td>0.077778</td>\n",
       "    </tr>\n",
       "    <tr>\n",
       "      <th>20</th>\n",
       "      <td>10.00</td>\n",
       "      <td>1.0</td>\n",
       "      <td>1.000000</td>\n",
       "      <td>0.077778</td>\n",
       "    </tr>\n",
       "    <tr>\n",
       "      <th>21</th>\n",
       "      <td>10.00</td>\n",
       "      <td>10.0</td>\n",
       "      <td>1.000000</td>\n",
       "      <td>0.077778</td>\n",
       "    </tr>\n",
       "    <tr>\n",
       "      <th>22</th>\n",
       "      <td>10.00</td>\n",
       "      <td>100.0</td>\n",
       "      <td>1.000000</td>\n",
       "      <td>0.077778</td>\n",
       "    </tr>\n",
       "    <tr>\n",
       "      <th>23</th>\n",
       "      <td>10.00</td>\n",
       "      <td>scale</td>\n",
       "      <td>1.000000</td>\n",
       "      <td>0.986111</td>\n",
       "    </tr>\n",
       "    <tr>\n",
       "      <th>24</th>\n",
       "      <td>100.00</td>\n",
       "      <td>0.01</td>\n",
       "      <td>1.000000</td>\n",
       "      <td>0.813889</td>\n",
       "    </tr>\n",
       "    <tr>\n",
       "      <th>25</th>\n",
       "      <td>100.00</td>\n",
       "      <td>0.1</td>\n",
       "      <td>1.000000</td>\n",
       "      <td>0.077778</td>\n",
       "    </tr>\n",
       "    <tr>\n",
       "      <th>26</th>\n",
       "      <td>100.00</td>\n",
       "      <td>1.0</td>\n",
       "      <td>1.000000</td>\n",
       "      <td>0.077778</td>\n",
       "    </tr>\n",
       "    <tr>\n",
       "      <th>27</th>\n",
       "      <td>100.00</td>\n",
       "      <td>10.0</td>\n",
       "      <td>1.000000</td>\n",
       "      <td>0.077778</td>\n",
       "    </tr>\n",
       "    <tr>\n",
       "      <th>28</th>\n",
       "      <td>100.00</td>\n",
       "      <td>100.0</td>\n",
       "      <td>1.000000</td>\n",
       "      <td>0.077778</td>\n",
       "    </tr>\n",
       "    <tr>\n",
       "      <th>29</th>\n",
       "      <td>100.00</td>\n",
       "      <td>scale</td>\n",
       "      <td>1.000000</td>\n",
       "      <td>0.986111</td>\n",
       "    </tr>\n",
       "  </tbody>\n",
       "</table>\n",
       "</div>"
      ],
      "text/plain": [
       "         c  gamma  train_acc  test_acc\n",
       "0     0.01   0.01   0.107168  0.077778\n",
       "1     0.01    0.1   0.107168  0.077778\n",
       "2     0.01    1.0   0.107168  0.077778\n",
       "3     0.01   10.0   0.107168  0.077778\n",
       "4     0.01  100.0   0.107168  0.077778\n",
       "5     0.01  scale   0.180237  0.130556\n",
       "6     0.10   0.01   0.107168  0.077778\n",
       "7     0.10    0.1   0.107168  0.077778\n",
       "8     0.10    1.0   0.107168  0.077778\n",
       "9     0.10   10.0   0.107168  0.077778\n",
       "10    0.10  100.0   0.107168  0.077778\n",
       "11    0.10  scale   0.964509  0.950000\n",
       "12    1.00   0.01   1.000000  0.791667\n",
       "13    1.00    0.1   1.000000  0.077778\n",
       "14    1.00    1.0   1.000000  0.077778\n",
       "15    1.00   10.0   1.000000  0.077778\n",
       "16    1.00  100.0   1.000000  0.077778\n",
       "17    1.00  scale   0.996521  0.986111\n",
       "18   10.00   0.01   1.000000  0.813889\n",
       "19   10.00    0.1   1.000000  0.077778\n",
       "20   10.00    1.0   1.000000  0.077778\n",
       "21   10.00   10.0   1.000000  0.077778\n",
       "22   10.00  100.0   1.000000  0.077778\n",
       "23   10.00  scale   1.000000  0.986111\n",
       "24  100.00   0.01   1.000000  0.813889\n",
       "25  100.00    0.1   1.000000  0.077778\n",
       "26  100.00    1.0   1.000000  0.077778\n",
       "27  100.00   10.0   1.000000  0.077778\n",
       "28  100.00  100.0   1.000000  0.077778\n",
       "29  100.00  scale   1.000000  0.986111"
      ]
     },
     "execution_count": 28,
     "metadata": {},
     "output_type": "execute_result"
    }
   ],
   "source": [
    "df"
   ]
  },
  {
   "cell_type": "markdown",
   "id": "5e1859c6-5b47-491f-9838-93b5bb76da92",
   "metadata": {},
   "source": [
    "We see that we get the best results in the default parameter values of the SVC. now lets take a look at this specific model more closely"
   ]
  },
  {
   "cell_type": "markdown",
   "id": "3fd7f241-4a21-4dc1-9915-3a3d5cd42917",
   "metadata": {},
   "source": [
    "##### Moving on with C = 1 and gamma = 'scale'"
   ]
  },
  {
   "cell_type": "code",
   "execution_count": 30,
   "id": "6c1f136e-4203-45bc-948c-95889b408962",
   "metadata": {},
   "outputs": [
    {
     "data": {
      "text/html": [
       "<div>\n",
       "<style scoped>\n",
       "    .dataframe tbody tr th:only-of-type {\n",
       "        vertical-align: middle;\n",
       "    }\n",
       "\n",
       "    .dataframe tbody tr th {\n",
       "        vertical-align: top;\n",
       "    }\n",
       "\n",
       "    .dataframe thead th {\n",
       "        text-align: right;\n",
       "    }\n",
       "</style>\n",
       "<table border=\"1\" class=\"dataframe\">\n",
       "  <thead>\n",
       "    <tr style=\"text-align: right;\">\n",
       "      <th></th>\n",
       "      <th>0</th>\n",
       "      <th>1</th>\n",
       "      <th>2</th>\n",
       "      <th>3</th>\n",
       "      <th>4</th>\n",
       "      <th>5</th>\n",
       "      <th>6</th>\n",
       "      <th>7</th>\n",
       "      <th>8</th>\n",
       "      <th>9</th>\n",
       "      <th>...</th>\n",
       "      <th>640</th>\n",
       "      <th>641</th>\n",
       "      <th>642</th>\n",
       "      <th>643</th>\n",
       "      <th>644</th>\n",
       "      <th>645</th>\n",
       "      <th>646</th>\n",
       "      <th>647</th>\n",
       "      <th>648</th>\n",
       "      <th>649</th>\n",
       "    </tr>\n",
       "  </thead>\n",
       "  <tbody>\n",
       "    <tr>\n",
       "      <th>0</th>\n",
       "      <td>0.834414</td>\n",
       "      <td>0.000000</td>\n",
       "      <td>0.000000</td>\n",
       "      <td>0.000000</td>\n",
       "      <td>0.000000</td>\n",
       "      <td>0.000000</td>\n",
       "      <td>0.0</td>\n",
       "      <td>0.00000</td>\n",
       "      <td>0.007415</td>\n",
       "      <td>0.280539</td>\n",
       "      <td>...</td>\n",
       "      <td>-0.000000</td>\n",
       "      <td>-0.410435</td>\n",
       "      <td>-0.000000</td>\n",
       "      <td>-0.0</td>\n",
       "      <td>-0.292851</td>\n",
       "      <td>-0.000000</td>\n",
       "      <td>-0.0</td>\n",
       "      <td>-0.000000</td>\n",
       "      <td>-0.000000</td>\n",
       "      <td>-0.000000</td>\n",
       "    </tr>\n",
       "    <tr>\n",
       "      <th>1</th>\n",
       "      <td>0.000000</td>\n",
       "      <td>0.000000</td>\n",
       "      <td>0.000000</td>\n",
       "      <td>0.000000</td>\n",
       "      <td>0.000000</td>\n",
       "      <td>0.000000</td>\n",
       "      <td>0.0</td>\n",
       "      <td>0.00000</td>\n",
       "      <td>0.000000</td>\n",
       "      <td>0.000000</td>\n",
       "      <td>...</td>\n",
       "      <td>-0.000000</td>\n",
       "      <td>-1.000000</td>\n",
       "      <td>-0.378053</td>\n",
       "      <td>-1.0</td>\n",
       "      <td>-1.000000</td>\n",
       "      <td>-1.000000</td>\n",
       "      <td>-0.0</td>\n",
       "      <td>-1.000000</td>\n",
       "      <td>-0.000000</td>\n",
       "      <td>-0.084837</td>\n",
       "    </tr>\n",
       "    <tr>\n",
       "      <th>2</th>\n",
       "      <td>0.000000</td>\n",
       "      <td>0.000000</td>\n",
       "      <td>0.000000</td>\n",
       "      <td>0.000000</td>\n",
       "      <td>0.000000</td>\n",
       "      <td>0.050346</td>\n",
       "      <td>0.0</td>\n",
       "      <td>0.00000</td>\n",
       "      <td>0.000000</td>\n",
       "      <td>0.798890</td>\n",
       "      <td>...</td>\n",
       "      <td>-0.000000</td>\n",
       "      <td>-0.000000</td>\n",
       "      <td>-0.000000</td>\n",
       "      <td>-0.0</td>\n",
       "      <td>-0.620109</td>\n",
       "      <td>-0.000000</td>\n",
       "      <td>-0.0</td>\n",
       "      <td>-0.000000</td>\n",
       "      <td>-0.000000</td>\n",
       "      <td>-0.000000</td>\n",
       "    </tr>\n",
       "    <tr>\n",
       "      <th>3</th>\n",
       "      <td>1.000000</td>\n",
       "      <td>0.000000</td>\n",
       "      <td>0.000000</td>\n",
       "      <td>0.000000</td>\n",
       "      <td>0.000000</td>\n",
       "      <td>0.000000</td>\n",
       "      <td>1.0</td>\n",
       "      <td>0.00000</td>\n",
       "      <td>0.065284</td>\n",
       "      <td>0.623971</td>\n",
       "      <td>...</td>\n",
       "      <td>-0.551984</td>\n",
       "      <td>-0.152775</td>\n",
       "      <td>-1.000000</td>\n",
       "      <td>-0.0</td>\n",
       "      <td>-0.726556</td>\n",
       "      <td>-0.000000</td>\n",
       "      <td>-0.0</td>\n",
       "      <td>-1.000000</td>\n",
       "      <td>-1.000000</td>\n",
       "      <td>-0.000000</td>\n",
       "    </tr>\n",
       "    <tr>\n",
       "      <th>4</th>\n",
       "      <td>0.000000</td>\n",
       "      <td>0.000000</td>\n",
       "      <td>0.000000</td>\n",
       "      <td>0.190145</td>\n",
       "      <td>0.000000</td>\n",
       "      <td>1.000000</td>\n",
       "      <td>0.0</td>\n",
       "      <td>0.00000</td>\n",
       "      <td>0.310125</td>\n",
       "      <td>0.852502</td>\n",
       "      <td>...</td>\n",
       "      <td>-0.000000</td>\n",
       "      <td>-0.000000</td>\n",
       "      <td>-0.113126</td>\n",
       "      <td>-0.0</td>\n",
       "      <td>-0.955604</td>\n",
       "      <td>-1.000000</td>\n",
       "      <td>-0.0</td>\n",
       "      <td>-0.274456</td>\n",
       "      <td>-0.000000</td>\n",
       "      <td>-0.000000</td>\n",
       "    </tr>\n",
       "    <tr>\n",
       "      <th>5</th>\n",
       "      <td>0.958363</td>\n",
       "      <td>0.000000</td>\n",
       "      <td>0.332857</td>\n",
       "      <td>0.068037</td>\n",
       "      <td>0.002193</td>\n",
       "      <td>0.000000</td>\n",
       "      <td>0.0</td>\n",
       "      <td>0.00000</td>\n",
       "      <td>0.000000</td>\n",
       "      <td>1.000000</td>\n",
       "      <td>...</td>\n",
       "      <td>-0.000000</td>\n",
       "      <td>-0.340562</td>\n",
       "      <td>-1.000000</td>\n",
       "      <td>-0.0</td>\n",
       "      <td>-0.000000</td>\n",
       "      <td>-0.000000</td>\n",
       "      <td>-1.0</td>\n",
       "      <td>-0.000000</td>\n",
       "      <td>-0.095204</td>\n",
       "      <td>-0.000000</td>\n",
       "    </tr>\n",
       "    <tr>\n",
       "      <th>6</th>\n",
       "      <td>0.000000</td>\n",
       "      <td>0.000000</td>\n",
       "      <td>0.000000</td>\n",
       "      <td>0.073025</td>\n",
       "      <td>0.000000</td>\n",
       "      <td>0.000000</td>\n",
       "      <td>0.0</td>\n",
       "      <td>0.00000</td>\n",
       "      <td>0.000000</td>\n",
       "      <td>0.000000</td>\n",
       "      <td>...</td>\n",
       "      <td>-0.000000</td>\n",
       "      <td>-0.000000</td>\n",
       "      <td>-0.000000</td>\n",
       "      <td>-0.0</td>\n",
       "      <td>-0.731768</td>\n",
       "      <td>-0.227420</td>\n",
       "      <td>-0.0</td>\n",
       "      <td>-0.000000</td>\n",
       "      <td>-0.000000</td>\n",
       "      <td>-0.000000</td>\n",
       "    </tr>\n",
       "    <tr>\n",
       "      <th>7</th>\n",
       "      <td>0.949314</td>\n",
       "      <td>0.000000</td>\n",
       "      <td>0.000000</td>\n",
       "      <td>0.000000</td>\n",
       "      <td>0.000000</td>\n",
       "      <td>0.000000</td>\n",
       "      <td>0.0</td>\n",
       "      <td>0.00000</td>\n",
       "      <td>0.000000</td>\n",
       "      <td>0.209774</td>\n",
       "      <td>...</td>\n",
       "      <td>-0.000000</td>\n",
       "      <td>-0.000000</td>\n",
       "      <td>-0.786470</td>\n",
       "      <td>-0.0</td>\n",
       "      <td>-1.000000</td>\n",
       "      <td>-0.000000</td>\n",
       "      <td>-0.0</td>\n",
       "      <td>-0.000000</td>\n",
       "      <td>-0.000000</td>\n",
       "      <td>-0.000000</td>\n",
       "    </tr>\n",
       "    <tr>\n",
       "      <th>8</th>\n",
       "      <td>0.000000</td>\n",
       "      <td>0.154268</td>\n",
       "      <td>0.000000</td>\n",
       "      <td>0.000000</td>\n",
       "      <td>0.000000</td>\n",
       "      <td>0.000000</td>\n",
       "      <td>0.0</td>\n",
       "      <td>0.10579</td>\n",
       "      <td>0.000000</td>\n",
       "      <td>0.515605</td>\n",
       "      <td>...</td>\n",
       "      <td>-0.000000</td>\n",
       "      <td>-1.000000</td>\n",
       "      <td>-0.000000</td>\n",
       "      <td>-1.0</td>\n",
       "      <td>-1.000000</td>\n",
       "      <td>-0.800223</td>\n",
       "      <td>-0.0</td>\n",
       "      <td>-0.000000</td>\n",
       "      <td>-0.685023</td>\n",
       "      <td>-0.085038</td>\n",
       "    </tr>\n",
       "  </tbody>\n",
       "</table>\n",
       "<p>9 rows × 650 columns</p>\n",
       "</div>"
      ],
      "text/plain": [
       "        0         1         2         3         4         5    6        7    \\\n",
       "0  0.834414  0.000000  0.000000  0.000000  0.000000  0.000000  0.0  0.00000   \n",
       "1  0.000000  0.000000  0.000000  0.000000  0.000000  0.000000  0.0  0.00000   \n",
       "2  0.000000  0.000000  0.000000  0.000000  0.000000  0.050346  0.0  0.00000   \n",
       "3  1.000000  0.000000  0.000000  0.000000  0.000000  0.000000  1.0  0.00000   \n",
       "4  0.000000  0.000000  0.000000  0.190145  0.000000  1.000000  0.0  0.00000   \n",
       "5  0.958363  0.000000  0.332857  0.068037  0.002193  0.000000  0.0  0.00000   \n",
       "6  0.000000  0.000000  0.000000  0.073025  0.000000  0.000000  0.0  0.00000   \n",
       "7  0.949314  0.000000  0.000000  0.000000  0.000000  0.000000  0.0  0.00000   \n",
       "8  0.000000  0.154268  0.000000  0.000000  0.000000  0.000000  0.0  0.10579   \n",
       "\n",
       "        8         9    ...       640       641       642  643       644  \\\n",
       "0  0.007415  0.280539  ... -0.000000 -0.410435 -0.000000 -0.0 -0.292851   \n",
       "1  0.000000  0.000000  ... -0.000000 -1.000000 -0.378053 -1.0 -1.000000   \n",
       "2  0.000000  0.798890  ... -0.000000 -0.000000 -0.000000 -0.0 -0.620109   \n",
       "3  0.065284  0.623971  ... -0.551984 -0.152775 -1.000000 -0.0 -0.726556   \n",
       "4  0.310125  0.852502  ... -0.000000 -0.000000 -0.113126 -0.0 -0.955604   \n",
       "5  0.000000  1.000000  ... -0.000000 -0.340562 -1.000000 -0.0 -0.000000   \n",
       "6  0.000000  0.000000  ... -0.000000 -0.000000 -0.000000 -0.0 -0.731768   \n",
       "7  0.000000  0.209774  ... -0.000000 -0.000000 -0.786470 -0.0 -1.000000   \n",
       "8  0.000000  0.515605  ... -0.000000 -1.000000 -0.000000 -1.0 -1.000000   \n",
       "\n",
       "        645  646       647       648       649  \n",
       "0 -0.000000 -0.0 -0.000000 -0.000000 -0.000000  \n",
       "1 -1.000000 -0.0 -1.000000 -0.000000 -0.084837  \n",
       "2 -0.000000 -0.0 -0.000000 -0.000000 -0.000000  \n",
       "3 -0.000000 -0.0 -1.000000 -1.000000 -0.000000  \n",
       "4 -1.000000 -0.0 -0.274456 -0.000000 -0.000000  \n",
       "5 -0.000000 -1.0 -0.000000 -0.095204 -0.000000  \n",
       "6 -0.227420 -0.0 -0.000000 -0.000000 -0.000000  \n",
       "7 -0.000000 -0.0 -0.000000 -0.000000 -0.000000  \n",
       "8 -0.800223 -0.0 -0.000000 -0.685023 -0.085038  \n",
       "\n",
       "[9 rows x 650 columns]"
      ]
     },
     "execution_count": 30,
     "metadata": {},
     "output_type": "execute_result"
    }
   ],
   "source": [
    "pd.DataFrame(coefficient[17]) # coefficient table of the selected model"
   ]
  },
  {
   "cell_type": "code",
   "execution_count": 36,
   "id": "a42f42a5-2d2a-4d10-9d72-d0e13b88971d",
   "metadata": {},
   "outputs": [
    {
     "name": "stdout",
     "output_type": "stream",
     "text": [
      "There are 41 support vectors for class 0\n",
      "There are 85 support vectors for class 1\n",
      "There are 62 support vectors for class 2\n",
      "There are 69 support vectors for class 3\n",
      "There are 57 support vectors for class 4\n",
      "There are 61 support vectors for class 5\n",
      "There are 44 support vectors for class 6\n",
      "There are 60 support vectors for class 7\n",
      "There are 95 support vectors for class 8\n",
      "There are 76 support vectors for class 9\n"
     ]
    }
   ],
   "source": [
    "# the above table gives us the total support vectors for the entire dataset with num_classes-1 \n",
    "for i in range(len(n_supp[17])):\n",
    "    print(f\"There are {n_supp[17][i]} support vectors for class {i}\")"
   ]
  },
  {
   "cell_type": "markdown",
   "id": "be25e5f2-ea51-4de8-89a3-ab04744d5467",
   "metadata": {},
   "source": [
    "So now for each class \n",
    "1. the positive support vectors are the corresponding support vectors of that class \n",
    "2. the negative support vectors are all the support vectors of the rest of the classes.\n",
    "\n",
    "so for Ex. there are 41 positive support vectors for class 0 and 609 negative support vectors for it"
   ]
  },
  {
   "cell_type": "markdown",
   "id": "de853e96-13a8-4e80-b430-c505fa296f45",
   "metadata": {},
   "source": [
    "##### Looking at positive support vectors for each class"
   ]
  },
  {
   "cell_type": "code",
   "execution_count": 38,
   "id": "8eb34c7d-733a-4788-9dc2-009f7975b98d",
   "metadata": {},
   "outputs": [
    {
     "data": {
      "image/png": "[encoded data removed]",
      "text/plain": [
       "<Figure size 2400x1000 with 10 Axes>"
      ]
     },
     "metadata": {},
     "output_type": "display_data"
    }
   ],
   "source": [
    "ind = 0\n",
    "plt.subplots(2,5, figsize=(24,10))\n",
    "for i in range(len(n_supp[17])):\n",
    "    l1 = plt.subplot(2, 5, i + 1)\n",
    "    sv_image = x_train[sup_vec[17][ind:ind+n_supp[17][i]]][0]\n",
    "    l1.imshow(sv_image.reshape(8, 8), cmap=plt.cm.RdBu)\n",
    "    l1.set_xticks(())\n",
    "    l1.set_yticks(())\n",
    "    l1.set_xlabel('Class %i vs All' % i)\n",
    "    ind = ind + n_supp[17][i]\n",
    "plt.suptitle('Support Vectors for Positive Classes')\n",
    "plt.show()"
   ]
  },
  {
   "cell_type": "markdown",
   "id": "6a5e9a56-e3a5-41ab-83d2-e3d935e0deb4",
   "metadata": {},
   "source": [
    "We see that the positive support vectors resemble the digits correctly, which is what we want"
   ]
  },
  {
   "cell_type": "markdown",
   "id": "850d8cd9-ace3-4566-a297-6600a04c7b57",
   "metadata": {},
   "source": [
    "##### Looking at Negative support vectors for each class"
   ]
  },
  {
   "cell_type": "markdown",
   "id": "a2ece5ef-11f6-4856-a9cd-b8197b0fd320",
   "metadata": {},
   "source": [
    "we already saw that any support vector that doesn't belong to a certain class is defined as a negative support vector for that class. For each class, we will be taking the support vectors of the next class as its negative support vector"
   ]
  },
  {
   "cell_type": "code",
   "execution_count": 48,
   "id": "4fa25392-e2c3-47ec-997c-e033fa20b348",
   "metadata": {},
   "outputs": [
    {
     "data": {
      "image/png": "[encoded data removed]",
      "text/plain": [
       "<Figure size 2400x1000 with 10 Axes>"
      ]
     },
     "metadata": {},
     "output_type": "display_data"
    }
   ],
   "source": [
    "ind = n_supp[17][0]\n",
    "plt.subplots(2,5, figsize=(24,10))\n",
    "for i in range(len(n_supp[17])-1):\n",
    "    l1 = plt.subplot(2, 5, i + 1)\n",
    "    sv_image = x_train[sup_vec[17][ind:ind+n_supp[17][i+1]]][2]\n",
    "    l1.imshow(sv_image.reshape(8, 8), cmap=plt.cm.RdBu)\n",
    "    l1.set_xticks(())\n",
    "    l1.set_yticks(())\n",
    "    l1.set_xlabel('Class %i vs All' % i)\n",
    "    ind = ind + n_supp[17][i+1]\n",
    "ind = 0\n",
    "l1 = plt.subplot(2, 5, 10)\n",
    "sv_image = x_train[sup_vec[17][ind:ind+n_supp[17][0]]][2]\n",
    "l1.imshow(sv_image.reshape(8, 8), cmap=plt.cm.RdBu)\n",
    "l1.set_xticks(())\n",
    "l1.set_yticks(())\n",
    "l1.set_xlabel('Class 9 vs All')\n",
    "plt.suptitle('Support Vectors for Negative Classes')\n",
    "plt.show()"
   ]
  },
  {
   "cell_type": "markdown",
   "id": "42e6a9c8-2fee-4644-b266-f3a4b4220c13",
   "metadata": {},
   "source": [
    "We can clealy see the difference in the true class and negative support vectors.\n",
    "\n",
    "It can be shown that any of the others classes defining support vectors serve as negative support vectors for every other class"
   ]
  },
  {
   "cell_type": "code",
   "execution_count": null,
   "id": "9f4f8d81-e86e-4b28-bfcf-b3fcf2bb1f61",
   "metadata": {},
   "outputs": [],
   "source": []
  },
  {
   "cell_type": "code",
   "execution_count": null,
   "id": "e966cf8a-8bdd-459c-96d9-2afa7e08067b",
   "metadata": {},
   "outputs": [],
   "source": []
  },
  {
   "cell_type": "code",
   "execution_count": null,
   "id": "258963bf-5f36-4d47-8ae1-efe5bbd6d8c7",
   "metadata": {},
   "outputs": [],
   "source": []
  },
  {
   "cell_type": "code",
   "execution_count": null,
   "id": "845e87b3-892a-41e2-bb42-d0c0906fa058",
   "metadata": {},
   "outputs": [],
   "source": []
  },
  {
   "cell_type": "code",
   "execution_count": null,
   "id": "1101460f-b619-47b0-bd1d-f0d0a9704d48",
   "metadata": {},
   "outputs": [],
   "source": []
  },
  {
   "cell_type": "code",
   "execution_count": null,
   "id": "8942e2e9-24de-4612-919a-ca87655b642a",
   "metadata": {},
   "outputs": [],
   "source": []
  },
  {
   "cell_type": "code",
   "execution_count": null,
   "id": "9d245c9a-bf85-49d9-8d63-b10c888b4abd",
   "metadata": {},
   "outputs": [],
   "source": []
  },
  {
   "cell_type": "code",
   "execution_count": null,
   "id": "1842cdec-a5b9-41f4-8586-2d09e3bbf395",
   "metadata": {},
   "outputs": [],
   "source": []
  },
  {
   "cell_type": "code",
   "execution_count": null,
   "id": "eb9e6009-35cd-4315-b827-2fd90871abf5",
   "metadata": {},
   "outputs": [],
   "source": []
  },
  {
   "cell_type": "code",
   "execution_count": null,
   "id": "541c9bf2-65d3-46aa-a102-915b0cdcbc50",
   "metadata": {},
   "outputs": [],
   "source": []
  },
  {
   "cell_type": "code",
   "execution_count": null,
   "id": "590ad70f-2445-403f-9994-4b615002765d",
   "metadata": {},
   "outputs": [],
   "source": []
  },
  {
   "cell_type": "code",
   "execution_count": null,
   "id": "807a4b39-e58b-4285-bdb2-0533a37ee2d3",
   "metadata": {},
   "outputs": [],
   "source": [
    "# (a, b), (c, d) = tf.keras.datasets.mnist.load_data()\n",
    "# assert a.shape == (60000, 28, 28)\n",
    "# assert c.shape == (10000, 28, 28)\n",
    "# assert b.shape == (60000,)\n",
    "# assert d.shape == (10000,)"
   ]
  },
  {
   "cell_type": "code",
   "execution_count": null,
   "id": "2a1dfb8c-cddf-49dc-8839-20f7e15fa9ad",
   "metadata": {},
   "outputs": [],
   "source": [
    "# # we want our data points to be flattened as it will help in our computation\n",
    "# a = a.reshape((a.shape[0], -1))\n",
    "# c = c.reshape((c.shape[0], -1))\n",
    "# assert a.shape == (60000, 784)\n",
    "# assert c.shape == (10000, 784)"
   ]
  },
  {
   "cell_type": "markdown",
   "id": "62f6fa6b-de5a-4997-aa3c-36eca9b06125",
   "metadata": {},
   "source": [
    "##### To reduce computation time, we are going to take only a small subset of the entire data available in the train and test set"
   ]
  },
  {
   "cell_type": "code",
   "execution_count": null,
   "id": "9138bce3-f8f1-4d4f-916b-c316a13439fe",
   "metadata": {},
   "outputs": [],
   "source": [
    "# np.random.seed(42) #setting the seed to reproduce the results\n",
    "\n",
    "# # performing a random sampling of images available to us\n",
    "# num_samples = 8000\n",
    "# random_indices = np.random.choice(len(a), size=num_samples, replace=False) # Generate random indices\n",
    "\n",
    "# # Select the corresponding subset from the features and labels\n",
    "# x_train = a[random_indices]\n",
    "# y_train = b[random_indices]\n",
    "\n",
    "# # similarly for the test set\n",
    "# num_samples = 3000\n",
    "# random_indices = np.random.choice(len(c), size=num_samples, replace=False)\n",
    "# x_test = c[random_indices]\n",
    "# y_test = d[random_indices]"
   ]
  },
  {
   "cell_type": "code",
   "execution_count": null,
   "id": "64be786e-9ec4-452c-ab45-08e1591be224",
   "metadata": {},
   "outputs": [],
   "source": [
    "# print(f\"The shape of x_train: {x_train.shape}\")\n",
    "# print(f\"The shape of y_train: {y_train.shape}\")\n",
    "# print(f\"The shape of x_test: {x_test.shape}\")\n",
    "# print(f\"The shape of y_test: {y_test.shape}\")"
   ]
  },
  {
   "cell_type": "markdown",
   "id": "79a2fd99-b62b-46f4-8107-cc050a1c43f8",
   "metadata": {},
   "source": [
    "##### Viewing a few images"
   ]
  },
  {
   "cell_type": "code",
   "execution_count": null,
   "id": "4b3e7dd2-e781-4305-824e-a6b1303be454",
   "metadata": {},
   "outputs": [],
   "source": [
    "# classes = [\"0\", \"1\", \"2\", \"3\", \"4\", \"5\", \"6\", \"7\", \"8\", \"9\"]\n",
    "# num_classes = len(classes)\n",
    "# samples = 4\n",
    "\n",
    "# plt.subplots(figsize=(12, 4.5))\n",
    "# for y, cls in enumerate(classes):\n",
    "#     idxs = np.nonzero([i == y for i in y_train])\n",
    "#     idxs = np.random.choice(idxs[0], samples, replace=False)\n",
    "#     for i , idx in enumerate(idxs):\n",
    "#         plt_idx = i * num_classes + y + 1\n",
    "#         plt.subplot(samples, num_classes, plt_idx)\n",
    "#         plt.imshow(x_train[idx].reshape((28, 28)))\n",
    "#         plt.axis(\"off\")\n",
    "#         if i == 0:\n",
    "#             plt.title(cls)\n",
    "        \n",
    "\n",
    "# plt.show()"
   ]
  },
  {
   "cell_type": "code",
   "execution_count": null,
   "id": "51943f87-9757-4ade-bce6-0b9a50637d9f",
   "metadata": {},
   "outputs": [],
   "source": [
    "# temp1 = dict(Counter(y_train))\n",
    "# for i,k in temp1.items():\n",
    "#     print(f\"There are {k} data points of class {i}\")"
   ]
  },
  {
   "cell_type": "markdown",
   "id": "5a643913-38e7-4ac8-a7a1-0db3c008ad76",
   "metadata": {},
   "source": [
    "### Model Building"
   ]
  },
  {
   "cell_type": "markdown",
   "id": "d1814c39-61fc-4f8d-9b19-738f02171a21",
   "metadata": {},
   "source": [
    "#### Linear SVC"
   ]
  },
  {
   "cell_type": "code",
   "execution_count": null,
   "id": "488caa5f-326c-4cef-b608-fce67cd1fb68",
   "metadata": {},
   "outputs": [],
   "source": [
    "# start_time = time()\n",
    "# svm = LinearSVC(dual=False)\n",
    "# svm.fit(x_train, y_train)\n",
    "# end_time = time()"
   ]
  },
  {
   "cell_type": "code",
   "execution_count": null,
   "id": "1ebe33ae-8911-42c7-815c-f5207e48c990",
   "metadata": {},
   "outputs": [],
   "source": [
    "# print(f\"Execution Time: {round(end_time-start_time,2)} seconds\")"
   ]
  },
  {
   "cell_type": "code",
   "execution_count": null,
   "id": "e5038b1c-e10d-46d1-be7f-95f7d8ea11b8",
   "metadata": {},
   "outputs": [],
   "source": [
    "# svm.intercept_"
   ]
  },
  {
   "cell_type": "code",
   "execution_count": null,
   "id": "6fb6409e-91b2-45de-a016-67881bc944e7",
   "metadata": {},
   "outputs": [],
   "source": [
    "# pred = svm.predict(x_test)"
   ]
  },
  {
   "cell_type": "code",
   "execution_count": null,
   "id": "c4b741d9-2ecf-44b5-bec5-ded4b3fd7c81",
   "metadata": {},
   "outputs": [],
   "source": [
    "# accuracy_score(y_test, pred) # Accuracy"
   ]
  },
  {
   "cell_type": "code",
   "execution_count": null,
   "id": "5370eb85-0a93-428b-af1d-b95a1a1a6d59",
   "metadata": {},
   "outputs": [],
   "source": [
    "# cm = confusion_matrix(y_test, pred)\n",
    "# ConfusionMatrixDisplay.from_predictions(y_test, pred)\n",
    "# plt.show()"
   ]
  },
  {
   "cell_type": "code",
   "execution_count": null,
   "id": "a52e83fe-eb74-484a-b9d4-3b3c292add57",
   "metadata": {},
   "outputs": [],
   "source": [
    "# start_time = time()\n",
    "# acc = []\n",
    "# acc_tr = []\n",
    "# coefficient = []\n",
    "# for c in [0.0001,0.001,0.01,0.1,1,10,100,1000,10000]:\n",
    "#     svm = LinearSVC(dual=False, C=c)\n",
    "#     svm.fit(x_train, y_train)\n",
    "#     coef = svm.coef_\n",
    "    \n",
    "#     p_tr = svm.predict(x_train)\n",
    "#     a_tr = accuracy_score(y_train, p_tr)\n",
    "    \n",
    "#     pred = svm.predict(x_test)\n",
    "#     a = accuracy_score(y_test, pred)\n",
    "    \n",
    "#     coefficient.append(coef)\n",
    "#     acc_tr.append(a_tr)\n",
    "#     acc.append(a)\n",
    "\n",
    "# end_time = time()"
   ]
  },
  {
   "cell_type": "code",
   "execution_count": null,
   "id": "991c8ada-f250-46ad-a89c-b9f5944ee224",
   "metadata": {},
   "outputs": [],
   "source": [
    "# print(f\"Execution time: {round((end_time-start_time)/60,2)} mins\")"
   ]
  },
  {
   "cell_type": "code",
   "execution_count": null,
   "id": "790ee90d-9e35-47e2-901b-b19e304e38af",
   "metadata": {},
   "outputs": [],
   "source": [
    "# c = [0.0001,0.001,0.01,0.1,1,10,100,1000,10000]\n",
    "\n",
    "# plt.subplots(figsize=(10, 5))\n",
    "# plt.semilogx(c, acc,'-gD' ,color='red' , label=\"Testing Accuracy\")\n",
    "# plt.semilogx(c, acc_tr,'-gD' , label=\"Training Accuracy\")\n",
    "# plt.grid(True)\n",
    "# plt.xlabel(\"Cost Parameter C\")\n",
    "# plt.ylabel(\"Accuracy\")\n",
    "# plt.legend()\n",
    "# plt.title('Accuracy versus the Cost Parameter C (log-scale)')\n",
    "# plt.show()"
   ]
  },
  {
   "cell_type": "code",
   "execution_count": null,
   "id": "4c23125f-b9bd-4ec8-b338-8773b27c4422",
   "metadata": {},
   "outputs": [],
   "source": [
    "# svm_coef = coefficient[0]\n",
    "# svm_coef.shape"
   ]
  },
  {
   "cell_type": "code",
   "execution_count": null,
   "id": "4ff9833f-5fba-4b2e-861a-d6d0f5374106",
   "metadata": {},
   "outputs": [],
   "source": []
  },
  {
   "cell_type": "code",
   "execution_count": null,
   "id": "611ba4b0-757f-4da5-aa1a-c246b5e4cfe5",
   "metadata": {},
   "outputs": [],
   "source": []
  },
  {
   "cell_type": "code",
   "execution_count": null,
   "id": "814eea55-712d-43bc-9f4d-3f04ecc5275f",
   "metadata": {},
   "outputs": [],
   "source": []
  },
  {
   "cell_type": "code",
   "execution_count": null,
   "id": "bf54f7a6-6ecb-4132-9793-4e54eb4873aa",
   "metadata": {},
   "outputs": [],
   "source": []
  },
  {
   "cell_type": "code",
   "execution_count": null,
   "id": "27ba8276-5fab-44ef-ad8f-1f5503b8ecc9",
   "metadata": {},
   "outputs": [],
   "source": []
  },
  {
   "cell_type": "code",
   "execution_count": null,
   "id": "b541e122-1b6e-4bf3-86a2-7c6f401c5f33",
   "metadata": {},
   "outputs": [],
   "source": []
  },
  {
   "cell_type": "code",
   "execution_count": null,
   "id": "99d0e80b-a988-4493-8fd9-e5f005fe5347",
   "metadata": {},
   "outputs": [],
   "source": []
  },
  {
   "cell_type": "code",
   "execution_count": null,
   "id": "b26b4e0e-900f-4ed4-ac2d-eb38c1056070",
   "metadata": {},
   "outputs": [],
   "source": []
  },
  {
   "cell_type": "code",
   "execution_count": null,
   "id": "651f7526-9888-46de-8906-e34e84253879",
   "metadata": {},
   "outputs": [],
   "source": []
  },
  {
   "cell_type": "code",
   "execution_count": null,
   "id": "6a023e9d-fdad-44a8-836a-affaed035154",
   "metadata": {},
   "outputs": [],
   "source": []
  },
  {
   "cell_type": "code",
   "execution_count": null,
   "id": "8979f419-fb7c-43fa-95eb-709468784864",
   "metadata": {},
   "outputs": [],
   "source": []
  },
  {
   "cell_type": "code",
   "execution_count": null,
   "id": "a542493c-366d-4373-8bf5-c359ae4f9d60",
   "metadata": {},
   "outputs": [],
   "source": []
  },
  {
   "cell_type": "code",
   "execution_count": null,
   "id": "0ced4f08-154b-47d4-8cc5-f068e6ff38ad",
   "metadata": {},
   "outputs": [],
   "source": []
  },
  {
   "cell_type": "code",
   "execution_count": null,
   "id": "85fdc9e6-ab7a-4b1d-8263-502bcadfe823",
   "metadata": {},
   "outputs": [],
   "source": []
  },
  {
   "cell_type": "code",
   "execution_count": null,
   "id": "6d492a87-38f8-428a-a94c-cf9d41a2d171",
   "metadata": {},
   "outputs": [],
   "source": []
  },
  {
   "cell_type": "code",
   "execution_count": null,
   "id": "379ff233-da89-4a50-9d49-3e5c530e3266",
   "metadata": {},
   "outputs": [],
   "source": []
  },
  {
   "cell_type": "code",
   "execution_count": null,
   "id": "7a16a158-5bb6-45c6-99fd-a97d2ecfe99a",
   "metadata": {},
   "outputs": [],
   "source": []
  },
  {
   "cell_type": "code",
   "execution_count": null,
   "id": "6b10f7b3-cadf-4c0e-9a71-ff609f40d774",
   "metadata": {},
   "outputs": [],
   "source": []
  },
  {
   "cell_type": "code",
   "execution_count": null,
   "id": "09fcacaa-fd81-404d-8735-1fb365fa39e8",
   "metadata": {},
   "outputs": [],
   "source": []
  },
  {
   "cell_type": "code",
   "execution_count": null,
   "id": "cbe3e33d-8132-4b76-a471-3cf45615d754",
   "metadata": {},
   "outputs": [],
   "source": []
  },
  {
   "cell_type": "code",
   "execution_count": null,
   "id": "bfea2a04-7de6-49c9-8e81-bb72a449036a",
   "metadata": {},
   "outputs": [],
   "source": []
  },
  {
   "cell_type": "code",
   "execution_count": null,
   "id": "4f9300c4-0fec-435e-830e-5add23f7b321",
   "metadata": {},
   "outputs": [],
   "source": [
    "# train_path = r\"C:\\Users\\user\\Documents\\ML\\datasets\\MNIST\\train.csv\"\n",
    "# data = pd.read_csv(train_path)"
   ]
  },
  {
   "cell_type": "code",
   "execution_count": null,
   "id": "00c1a005-95cf-48c7-ad08-988feaf41bbb",
   "metadata": {},
   "outputs": [],
   "source": [
    "# test_path = r\"C:\\Users\\user\\Documents\\ML\\datasets\\MNIST\\test.csv\"\n",
    "# test_data = pd.read_csv(test_path)"
   ]
  },
  {
   "cell_type": "code",
   "execution_count": null,
   "id": "d782a0b8-e41f-47ae-9690-ea1d61cc3a7d",
   "metadata": {},
   "outputs": [],
   "source": [
    "# data.shape"
   ]
  },
  {
   "cell_type": "code",
   "execution_count": null,
   "id": "7a149057-2f0b-40dc-979d-77dcf631be89",
   "metadata": {},
   "outputs": [],
   "source": [
    "# test_data.shape"
   ]
  },
  {
   "cell_type": "code",
   "execution_count": null,
   "id": "ab489c76-2199-45e3-98aa-c91d07ccd340",
   "metadata": {},
   "outputs": [],
   "source": [
    "# # we will split the labels from the image data and store it in labels and pixel values variables\n",
    "# labels = data['label'] # 1d array of size 42000\n",
    "# pixels = data.drop('label', axis=1) # 2d array of 42000 images and each having 784 pixels"
   ]
  },
  {
   "cell_type": "code",
   "execution_count": null,
   "id": "19f40eb7-29c6-44bd-9181-820737f4944a",
   "metadata": {},
   "outputs": [],
   "source": [
    "# pixels.shape"
   ]
  },
  {
   "cell_type": "code",
   "execution_count": null,
   "id": "d7580852-6a6a-4a92-b076-a4709cd6d199",
   "metadata": {},
   "outputs": [],
   "source": [
    "# labels.shape"
   ]
  },
  {
   "cell_type": "code",
   "execution_count": null,
   "id": "9e36f6ef-b2c4-4ffe-9b45-6ab930f33f09",
   "metadata": {},
   "outputs": [],
   "source": [
    "# test_data"
   ]
  },
  {
   "cell_type": "code",
   "execution_count": null,
   "id": "b077ec98-c11f-41a1-b187-1f938d438aba",
   "metadata": {},
   "outputs": [],
   "source": [
    "# ## lets store the pixel values denoted by many columns as matrix data, so one 2d matrix represents one image\n",
    "# images = pixels.to_numpy().reshape(-1, 28, 28) # 3d matrix of with 42000 images with each being being of shape 28*28"
   ]
  },
  {
   "cell_type": "markdown",
   "id": "88680478-1fa9-4ff2-a94f-cfdcd632215e",
   "metadata": {},
   "source": [
    "We are doing this step so that it becomes easier to propogate through the implementation of various feature extraction technique that will be explored later on in this notebook"
   ]
  },
  {
   "cell_type": "code",
   "execution_count": null,
   "id": "3b7889ab-b36f-430e-a774-5f046a5984bc",
   "metadata": {},
   "outputs": [],
   "source": [
    "# ## lets see an example image\n",
    "# plt.figure(figsize=(4,4))\n",
    "# idx = 323\n",
    "\n",
    "# # images are stored in the \"images\" variable and each index of \"images\" denotes one image \n",
    "# plt.imshow(images[idx], cmap='gray')\n",
    "# plt.title('Label: ' + str(labels[idx]))"
   ]
  },
  {
   "cell_type": "code",
   "execution_count": null,
   "id": "2a4a2599-afe0-4d93-ace6-0118667e9bf0",
   "metadata": {},
   "outputs": [],
   "source": [
    "# data['label'].value_counts()"
   ]
  },
  {
   "cell_type": "markdown",
   "id": "dc92d345-639e-464b-b1bc-912b587841c1",
   "metadata": {},
   "source": [
    "<!-- The data is split fairly evenly so we wouldnt need to focus on sampling techniques -->"
   ]
  },
  {
   "cell_type": "code",
   "execution_count": null,
   "id": "49b55d13-10d1-44b0-86fe-270098c45fa0",
   "metadata": {},
   "outputs": [],
   "source": [
    "# x_train, x_test, y_train, y_test = train_test_split(pixels, labels, test_size=0.2, random_state = 42)"
   ]
  },
  {
   "cell_type": "code",
   "execution_count": null,
   "id": "d974a664-638b-416e-b896-44835ff9b542",
   "metadata": {},
   "outputs": [],
   "source": [
    "# svm_classifier = SVC(random_state=42)\n",
    "# param_grid = {\n",
    "#     'C': [0.1],\n",
    "#     'kernel': [ 'poly'],\n",
    "#     'gamma': ['auto']\n",
    "# }\n",
    "\n",
    "# grid_search_svm = GridSearchCV(svm_classifier, param_grid, cv=5)\n",
    "# grid_search_svm.fit(x_train, y_train)\n",
    "\n",
    "# best_params = grid_search_svm.best_params_\n",
    "# print(f\"Best Hyperparameters: {best_params}\")\n",
    "\n",
    "# # Evaluate on the test set\n",
    "# model_svm = grid_search_svm.best_estimator_\n",
    "\n",
    "# # Make predictions\n",
    "# y_pred_svm = model_svm.predict(x_test)\n",
    "\n",
    "# # Check accuracy of model\n",
    "# accuracy_svm = accuracy_score(y_test, y_pred_svm)\n",
    "# conf_matrix_svm = confusion_matrix(y_test, y_pred_svm)\n",
    "# classification_rep_svm = classification_report(y_test, y_pred_svm)\n",
    "\n",
    "# print(f\"Accuracy: {accuracy_svm}\")\n",
    "# print(f\"Confusion Matrix:\\n{conf_matrix_svm}\")\n",
    "# print(f\"Classification Report:\\n{classification_rep_svm}\")"
   ]
  },
  {
   "cell_type": "code",
   "execution_count": null,
   "id": "e3433113-9e4d-4651-b373-c4c9783445ad",
   "metadata": {},
   "outputs": [],
   "source": [
    "# x_test.shape,y_test.shape"
   ]
  },
  {
   "cell_type": "code",
   "execution_count": null,
   "id": "ea479f9a-085a-4252-b87e-5db8a0664ef7",
   "metadata": {},
   "outputs": [],
   "source": [
    "# errors"
   ]
  },
  {
   "cell_type": "code",
   "execution_count": null,
   "id": "6af925f7-c2af-4b9e-8380-81534fa99dc1",
   "metadata": {},
   "outputs": [],
   "source": [
    "# x_test"
   ]
  },
  {
   "cell_type": "code",
   "execution_count": null,
   "id": "88b474fa-5848-4f4c-8d5b-f45bcbaede3b",
   "metadata": {},
   "outputs": [],
   "source": [
    "# errors = np.where(y_pred_svm != y_test)[0]\n",
    "\n",
    "# # Display misclassified images\n",
    "# misclassified_images = x_test_images[errors]\n",
    "# misclassified_labels = y_test[errors]\n",
    "# predicted_labels = y_pred_svm[errors]"
   ]
  },
  {
   "cell_type": "code",
   "execution_count": null,
   "id": "178912f3-0dd8-4058-92d4-8122b1e4bf42",
   "metadata": {},
   "outputs": [],
   "source": []
  }
 ],
 "metadata": {
  "kernelspec": {
   "display_name": "Python 3 (ipykernel)",
   "language": "python",
   "name": "python3"
  },
  "language_info": {
   "codemirror_mode": {
    "name": "ipython",
    "version": 3
   },
   "file_extension": ".py",
   "mimetype": "text/x-python",
   "name": "python",
   "nbconvert_exporter": "python",
   "pygments_lexer": "ipython3",
   "version": "3.10.13"
  }
 },
 "nbformat": 4,
 "nbformat_minor": 5
}
