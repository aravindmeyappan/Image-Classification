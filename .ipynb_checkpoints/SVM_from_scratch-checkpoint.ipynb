{
 "cells": [
  {
   "cell_type": "markdown",
   "id": "d6fda104-1f95-4e4e-a338-f227d985725f",
   "metadata": {},
   "source": [
    "### Importing Dependencies"
   ]
  },
  {
   "cell_type": "code",
   "execution_count": 1,
   "id": "f4a7a63a-a0a2-45c1-a9ca-768b9dd9f7bf",
   "metadata": {},
   "outputs": [],
   "source": [
    "import numpy as np\n",
    "import pandas as pd\n",
    "from sklearn.preprocessing import StandardScaler\n",
    "from sklearn.model_selection import train_test_split\n",
    "from sklearn.metrics import accuracy_score, confusion_matrix, classification_report\n",
    "from sklearn.svm import SVC\n",
    "from cvxopt import matrix, solvers\n",
    "import matplotlib.pyplot as plt\n",
    "from linear_svm_classifier import linear_svm_classifier # class performing linear support vector machine classification\n",
    "from multi_class_classifier import OneVsOneSVM, OneVsAllSVM # class performing multi class classification using 2 approaches"
   ]
  },
  {
   "cell_type": "markdown",
   "id": "e87a4bc7-d772-4fbf-82e4-45097f1c2849",
   "metadata": {},
   "source": [
    "### Loading the Data"
   ]
  },
  {
   "cell_type": "code",
   "execution_count": 2,
   "id": "89dfcbcd-2504-480c-9eb8-6e07db9c1b18",
   "metadata": {},
   "outputs": [
    {
     "data": {
      "text/html": [
       "<div>\n",
       "<style scoped>\n",
       "    .dataframe tbody tr th:only-of-type {\n",
       "        vertical-align: middle;\n",
       "    }\n",
       "\n",
       "    .dataframe tbody tr th {\n",
       "        vertical-align: top;\n",
       "    }\n",
       "\n",
       "    .dataframe thead th {\n",
       "        text-align: right;\n",
       "    }\n",
       "</style>\n",
       "<table border=\"1\" class=\"dataframe\">\n",
       "  <thead>\n",
       "    <tr style=\"text-align: right;\">\n",
       "      <th></th>\n",
       "      <th>Pregnancies</th>\n",
       "      <th>Glucose</th>\n",
       "      <th>BloodPressure</th>\n",
       "      <th>SkinThickness</th>\n",
       "      <th>Insulin</th>\n",
       "      <th>BMI</th>\n",
       "      <th>DiabetesPedigreeFunction</th>\n",
       "      <th>Age</th>\n",
       "      <th>Outcome</th>\n",
       "    </tr>\n",
       "  </thead>\n",
       "  <tbody>\n",
       "    <tr>\n",
       "      <th>0</th>\n",
       "      <td>6</td>\n",
       "      <td>148</td>\n",
       "      <td>72</td>\n",
       "      <td>35</td>\n",
       "      <td>0</td>\n",
       "      <td>33.6</td>\n",
       "      <td>0.627</td>\n",
       "      <td>50</td>\n",
       "      <td>1</td>\n",
       "    </tr>\n",
       "    <tr>\n",
       "      <th>1</th>\n",
       "      <td>1</td>\n",
       "      <td>85</td>\n",
       "      <td>66</td>\n",
       "      <td>29</td>\n",
       "      <td>0</td>\n",
       "      <td>26.6</td>\n",
       "      <td>0.351</td>\n",
       "      <td>31</td>\n",
       "      <td>0</td>\n",
       "    </tr>\n",
       "    <tr>\n",
       "      <th>2</th>\n",
       "      <td>8</td>\n",
       "      <td>183</td>\n",
       "      <td>64</td>\n",
       "      <td>0</td>\n",
       "      <td>0</td>\n",
       "      <td>23.3</td>\n",
       "      <td>0.672</td>\n",
       "      <td>32</td>\n",
       "      <td>1</td>\n",
       "    </tr>\n",
       "    <tr>\n",
       "      <th>3</th>\n",
       "      <td>1</td>\n",
       "      <td>89</td>\n",
       "      <td>66</td>\n",
       "      <td>23</td>\n",
       "      <td>94</td>\n",
       "      <td>28.1</td>\n",
       "      <td>0.167</td>\n",
       "      <td>21</td>\n",
       "      <td>0</td>\n",
       "    </tr>\n",
       "    <tr>\n",
       "      <th>4</th>\n",
       "      <td>0</td>\n",
       "      <td>137</td>\n",
       "      <td>40</td>\n",
       "      <td>35</td>\n",
       "      <td>168</td>\n",
       "      <td>43.1</td>\n",
       "      <td>2.288</td>\n",
       "      <td>33</td>\n",
       "      <td>1</td>\n",
       "    </tr>\n",
       "  </tbody>\n",
       "</table>\n",
       "</div>"
      ],
      "text/plain": [
       "   Pregnancies  Glucose  BloodPressure  SkinThickness  Insulin   BMI  \\\n",
       "0            6      148             72             35        0  33.6   \n",
       "1            1       85             66             29        0  26.6   \n",
       "2            8      183             64              0        0  23.3   \n",
       "3            1       89             66             23       94  28.1   \n",
       "4            0      137             40             35      168  43.1   \n",
       "\n",
       "   DiabetesPedigreeFunction  Age  Outcome  \n",
       "0                     0.627   50        1  \n",
       "1                     0.351   31        0  \n",
       "2                     0.672   32        1  \n",
       "3                     0.167   21        0  \n",
       "4                     2.288   33        1  "
      ]
     },
     "execution_count": 2,
     "metadata": {},
     "output_type": "execute_result"
    }
   ],
   "source": [
    "input_path = r\"C:\\Users\\user\\Documents\\ML\\datasets\\Diabetes\\diabetes.csv\"\n",
    "dia_data = pd.read_csv(input_path)\n",
    "\n",
    "# viewing the first few examples to get a sense of it\n",
    "dia_data.head()"
   ]
  },
  {
   "cell_type": "code",
   "execution_count": 3,
   "id": "a62e9078-31de-48c2-8121-33746fca9c5a",
   "metadata": {},
   "outputs": [
    {
     "name": "stdout",
     "output_type": "stream",
     "text": [
      "<class 'pandas.core.frame.DataFrame'>\n",
      "RangeIndex: 768 entries, 0 to 767\n",
      "Data columns (total 9 columns):\n",
      " #   Column                    Non-Null Count  Dtype  \n",
      "---  ------                    --------------  -----  \n",
      " 0   Pregnancies               768 non-null    int64  \n",
      " 1   Glucose                   768 non-null    int64  \n",
      " 2   BloodPressure             768 non-null    int64  \n",
      " 3   SkinThickness             768 non-null    int64  \n",
      " 4   Insulin                   768 non-null    int64  \n",
      " 5   BMI                       768 non-null    float64\n",
      " 6   DiabetesPedigreeFunction  768 non-null    float64\n",
      " 7   Age                       768 non-null    int64  \n",
      " 8   Outcome                   768 non-null    int64  \n",
      "dtypes: float64(2), int64(7)\n",
      "memory usage: 54.1 KB\n"
     ]
    }
   ],
   "source": [
    "dia_data.info()"
   ]
  },
  {
   "cell_type": "code",
   "execution_count": 4,
   "id": "4f479987-c590-45fb-afb6-c7de23716b4b",
   "metadata": {},
   "outputs": [
    {
     "data": {
      "text/plain": [
       "Outcome\n",
       "0    500\n",
       "1    268\n",
       "Name: count, dtype: int64"
      ]
     },
     "execution_count": 4,
     "metadata": {},
     "output_type": "execute_result"
    }
   ],
   "source": [
    "dia_data['Outcome'].value_counts()"
   ]
  },
  {
   "cell_type": "code",
   "execution_count": 5,
   "id": "1f683e4b-4bad-448c-b620-b5d3b0f41bf7",
   "metadata": {},
   "outputs": [
    {
     "data": {
      "text/html": [
       "<div>\n",
       "<style scoped>\n",
       "    .dataframe tbody tr th:only-of-type {\n",
       "        vertical-align: middle;\n",
       "    }\n",
       "\n",
       "    .dataframe tbody tr th {\n",
       "        vertical-align: top;\n",
       "    }\n",
       "\n",
       "    .dataframe thead th {\n",
       "        text-align: right;\n",
       "    }\n",
       "</style>\n",
       "<table border=\"1\" class=\"dataframe\">\n",
       "  <thead>\n",
       "    <tr style=\"text-align: right;\">\n",
       "      <th></th>\n",
       "      <th>Pregnancies</th>\n",
       "      <th>Glucose</th>\n",
       "      <th>BloodPressure</th>\n",
       "      <th>SkinThickness</th>\n",
       "      <th>Insulin</th>\n",
       "      <th>BMI</th>\n",
       "      <th>DiabetesPedigreeFunction</th>\n",
       "      <th>Age</th>\n",
       "      <th>Outcome</th>\n",
       "    </tr>\n",
       "  </thead>\n",
       "  <tbody>\n",
       "    <tr>\n",
       "      <th>count</th>\n",
       "      <td>768.000000</td>\n",
       "      <td>768.000000</td>\n",
       "      <td>768.000000</td>\n",
       "      <td>768.000000</td>\n",
       "      <td>768.000000</td>\n",
       "      <td>768.000000</td>\n",
       "      <td>768.000000</td>\n",
       "      <td>768.000000</td>\n",
       "      <td>768.000000</td>\n",
       "    </tr>\n",
       "    <tr>\n",
       "      <th>mean</th>\n",
       "      <td>3.845052</td>\n",
       "      <td>120.894531</td>\n",
       "      <td>69.105469</td>\n",
       "      <td>20.536458</td>\n",
       "      <td>79.799479</td>\n",
       "      <td>31.992578</td>\n",
       "      <td>0.471876</td>\n",
       "      <td>33.240885</td>\n",
       "      <td>0.348958</td>\n",
       "    </tr>\n",
       "    <tr>\n",
       "      <th>std</th>\n",
       "      <td>3.369578</td>\n",
       "      <td>31.972618</td>\n",
       "      <td>19.355807</td>\n",
       "      <td>15.952218</td>\n",
       "      <td>115.244002</td>\n",
       "      <td>7.884160</td>\n",
       "      <td>0.331329</td>\n",
       "      <td>11.760232</td>\n",
       "      <td>0.476951</td>\n",
       "    </tr>\n",
       "    <tr>\n",
       "      <th>min</th>\n",
       "      <td>0.000000</td>\n",
       "      <td>0.000000</td>\n",
       "      <td>0.000000</td>\n",
       "      <td>0.000000</td>\n",
       "      <td>0.000000</td>\n",
       "      <td>0.000000</td>\n",
       "      <td>0.078000</td>\n",
       "      <td>21.000000</td>\n",
       "      <td>0.000000</td>\n",
       "    </tr>\n",
       "    <tr>\n",
       "      <th>25%</th>\n",
       "      <td>1.000000</td>\n",
       "      <td>99.000000</td>\n",
       "      <td>62.000000</td>\n",
       "      <td>0.000000</td>\n",
       "      <td>0.000000</td>\n",
       "      <td>27.300000</td>\n",
       "      <td>0.243750</td>\n",
       "      <td>24.000000</td>\n",
       "      <td>0.000000</td>\n",
       "    </tr>\n",
       "    <tr>\n",
       "      <th>50%</th>\n",
       "      <td>3.000000</td>\n",
       "      <td>117.000000</td>\n",
       "      <td>72.000000</td>\n",
       "      <td>23.000000</td>\n",
       "      <td>30.500000</td>\n",
       "      <td>32.000000</td>\n",
       "      <td>0.372500</td>\n",
       "      <td>29.000000</td>\n",
       "      <td>0.000000</td>\n",
       "    </tr>\n",
       "    <tr>\n",
       "      <th>75%</th>\n",
       "      <td>6.000000</td>\n",
       "      <td>140.250000</td>\n",
       "      <td>80.000000</td>\n",
       "      <td>32.000000</td>\n",
       "      <td>127.250000</td>\n",
       "      <td>36.600000</td>\n",
       "      <td>0.626250</td>\n",
       "      <td>41.000000</td>\n",
       "      <td>1.000000</td>\n",
       "    </tr>\n",
       "    <tr>\n",
       "      <th>max</th>\n",
       "      <td>17.000000</td>\n",
       "      <td>199.000000</td>\n",
       "      <td>122.000000</td>\n",
       "      <td>99.000000</td>\n",
       "      <td>846.000000</td>\n",
       "      <td>67.100000</td>\n",
       "      <td>2.420000</td>\n",
       "      <td>81.000000</td>\n",
       "      <td>1.000000</td>\n",
       "    </tr>\n",
       "  </tbody>\n",
       "</table>\n",
       "</div>"
      ],
      "text/plain": [
       "       Pregnancies     Glucose  BloodPressure  SkinThickness     Insulin  \\\n",
       "count   768.000000  768.000000     768.000000     768.000000  768.000000   \n",
       "mean      3.845052  120.894531      69.105469      20.536458   79.799479   \n",
       "std       3.369578   31.972618      19.355807      15.952218  115.244002   \n",
       "min       0.000000    0.000000       0.000000       0.000000    0.000000   \n",
       "25%       1.000000   99.000000      62.000000       0.000000    0.000000   \n",
       "50%       3.000000  117.000000      72.000000      23.000000   30.500000   \n",
       "75%       6.000000  140.250000      80.000000      32.000000  127.250000   \n",
       "max      17.000000  199.000000     122.000000      99.000000  846.000000   \n",
       "\n",
       "              BMI  DiabetesPedigreeFunction         Age     Outcome  \n",
       "count  768.000000                768.000000  768.000000  768.000000  \n",
       "mean    31.992578                  0.471876   33.240885    0.348958  \n",
       "std      7.884160                  0.331329   11.760232    0.476951  \n",
       "min      0.000000                  0.078000   21.000000    0.000000  \n",
       "25%     27.300000                  0.243750   24.000000    0.000000  \n",
       "50%     32.000000                  0.372500   29.000000    0.000000  \n",
       "75%     36.600000                  0.626250   41.000000    1.000000  \n",
       "max     67.100000                  2.420000   81.000000    1.000000  "
      ]
     },
     "execution_count": 5,
     "metadata": {},
     "output_type": "execute_result"
    }
   ],
   "source": [
    "dia_data.describe()"
   ]
  },
  {
   "cell_type": "markdown",
   "id": "c230b22a-8638-4084-a01f-e44d6e783a36",
   "metadata": {},
   "source": [
    "The features and the corresponding labels are separated before scaling "
   ]
  },
  {
   "cell_type": "code",
   "execution_count": 6,
   "id": "ebbb26b6-aa5e-4c41-87c2-fec531dce1f2",
   "metadata": {},
   "outputs": [],
   "source": [
    "features = dia_data.drop('Outcome', axis=1)\n",
    "labels = dia_data['Outcome']"
   ]
  },
  {
   "cell_type": "code",
   "execution_count": 7,
   "id": "45267eeb-1609-459a-b05d-2612f7736561",
   "metadata": {},
   "outputs": [],
   "source": [
    "# perform train test split\n",
    "x_train, x_test, y_train, y_test = train_test_split(features, labels, test_size=0.2, random_state=2)"
   ]
  },
  {
   "cell_type": "markdown",
   "id": "b9ccf38c-50af-42b3-891b-46377ab0f06f",
   "metadata": {},
   "source": [
    "#### Perform train test split before standardization"
   ]
  },
  {
   "cell_type": "markdown",
   "id": "90fa0a03-e17f-474a-b826-5da5dd5d922f",
   "metadata": {},
   "source": [
    "this is done to avoid the characteristics of test data to leak into the standardization of train data, as we want the model to be completely unaware of the test data to avoid overfitting"
   ]
  },
  {
   "cell_type": "code",
   "execution_count": 8,
   "id": "6b472d86-8b17-45b0-99aa-2d3c877740f0",
   "metadata": {},
   "outputs": [],
   "source": [
    "# standardize the data\n",
    "standard_scaler = StandardScaler()\n",
    "x_train_scaled = standard_scaler.fit_transform(x_train)\n",
    "x_test_scaled = standard_scaler.transform(x_test)"
   ]
  },
  {
   "cell_type": "markdown",
   "id": "dc135657-b672-4e1c-ace4-5100538de480",
   "metadata": {},
   "source": [
    "### SVM classifier"
   ]
  },
  {
   "cell_type": "markdown",
   "id": "83385ec5-e13b-412b-82de-91a77e7c9e42",
   "metadata": {},
   "source": [
    "Using the linear svm classifier class to run the SVM model "
   ]
  },
  {
   "cell_type": "code",
   "execution_count": 9,
   "id": "8c50e823-ffae-4096-9b68-7ce13c78db78",
   "metadata": {},
   "outputs": [],
   "source": [
    "svmc = linear_svm_classifier(learning_rate = 0.01, num_iter=1000, reg_lambda=0.01)\n",
    "svmc.fit(x_train_scaled, y_train)"
   ]
  },
  {
   "cell_type": "code",
   "execution_count": 10,
   "id": "34ceffaf-588a-4244-bd2e-7c1a3821dab1",
   "metadata": {},
   "outputs": [],
   "source": [
    "train_predictions = svmc.predict(x_train_scaled)\n",
    "test_predictions = svmc.predict(x_test_scaled)"
   ]
  },
  {
   "cell_type": "code",
   "execution_count": 11,
   "id": "cec90474-4eeb-471b-afdd-bfd8d7df3db4",
   "metadata": {},
   "outputs": [
    {
     "name": "stdout",
     "output_type": "stream",
     "text": [
      "Train Accuracy: 76.87 % \n",
      " Test Accuracy: 73.38 %\n",
      "Test Confusion Matrix:\n",
      "[[80 29]\n",
      " [12 33]]\n",
      "Test Classification Report:\n",
      "              precision    recall  f1-score   support\n",
      "\n",
      "           0       0.87      0.73      0.80       109\n",
      "           1       0.53      0.73      0.62        45\n",
      "\n",
      "    accuracy                           0.73       154\n",
      "   macro avg       0.70      0.73      0.71       154\n",
      "weighted avg       0.77      0.73      0.74       154\n",
      "\n"
     ]
    }
   ],
   "source": [
    "train_accuracy, test_accuracy = accuracy_score(y_train, train_predictions), accuracy_score(y_test, test_predictions)\n",
    "train_conf_m, test_conf_m = confusion_matrix(y_train, train_predictions), confusion_matrix(y_test, test_predictions)\n",
    "train_classification_rep, test_classification_rep = classification_report(y_train, train_predictions), classification_report(y_test, test_predictions)\n",
    "\n",
    "print(f\"Train Accuracy: {round(train_accuracy*100, 2)} % \\n Test Accuracy: {round(test_accuracy*100,2)} %\")\n",
    "print(f\"Test Confusion Matrix:\\n{test_conf_m}\")\n",
    "print(f\"Test Classification Report:\\n{test_classification_rep}\")"
   ]
  },
  {
   "cell_type": "markdown",
   "id": "98e0c954-c594-46fa-a6d4-d8c351d8cba6",
   "metadata": {},
   "source": [
    "### Class Imbalance"
   ]
  },
  {
   "cell_type": "markdown",
   "id": "90cbbd0d-f9fa-4131-b432-f60e16ce8fd8",
   "metadata": {},
   "source": [
    "At first an accuracy score of 73% on unseen data seems fairly decent at the face of it, but it is often misleading to only look at the accuracy score of a classification problem with class imbalance as in our case. The input data we use has 500 data points with class 0 and 268 points with class 1. "
   ]
  },
  {
   "cell_type": "markdown",
   "id": "00b6726f-2b7a-4fc9-9be7-1a22ff857424",
   "metadata": {},
   "source": [
    "Due to the class imbalance, the model figures that it would be less likely to be penalized if it were to predict the majority class and would be biased to predict the majority class (in our case that would be 0 - absense of diabetes) and the dataset will also satisfy the biases made by the model by giving a higher accuracy (not because the model captures the phenomena well, but because the model predicts majority class 0 and the data also has majority class 0)"
   ]
  },
  {
   "cell_type": "code",
   "execution_count": 12,
   "id": "d8bc6aa6-daf9-4df7-b924-92b6df280212",
   "metadata": {},
   "outputs": [
    {
     "name": "stdout",
     "output_type": "stream",
     "text": [
      "class 0: (500, 9)\n",
      "class 1: (268, 9)\n"
     ]
    }
   ],
   "source": [
    "class_0 = dia_data[dia_data['Outcome']==0]\n",
    "class_1 = dia_data[dia_data['Outcome']==1]\n",
    "print('class 0:', class_0.shape)\n",
    "print('class 1:', class_1.shape)"
   ]
  },
  {
   "cell_type": "markdown",
   "id": "5d12e568-bcaf-4d7b-bcef-05b655633502",
   "metadata": {},
   "source": [
    "#### Naive Techniques"
   ]
  },
  {
   "cell_type": "markdown",
   "id": "5c6bb006-6a26-4101-bded-c7dc35df5632",
   "metadata": {},
   "source": [
    "Lets try to beat through the class imbalance using naive approaches, like \n",
    "1. random undersampling of majority class to match the number of entries of minority class\n",
    "2. random oversampling of minority class to match the number of entires of majority class"
   ]
  },
  {
   "cell_type": "markdown",
   "id": "8ad00004-16f2-4451-954d-65852bd1ab44",
   "metadata": {},
   "source": [
    "##### Random Undersampling of class 0"
   ]
  },
  {
   "cell_type": "code",
   "execution_count": 13,
   "id": "e147d0a8-cf58-4aa4-81c5-a6db361974a0",
   "metadata": {},
   "outputs": [],
   "source": [
    "class_count_0, class_count_1 = dia_data['Outcome'].value_counts()"
   ]
  },
  {
   "cell_type": "code",
   "execution_count": 14,
   "id": "8b13102c-aea3-4fe4-965a-44303386d323",
   "metadata": {},
   "outputs": [
    {
     "name": "stdout",
     "output_type": "stream",
     "text": [
      "total class of 1 and 0: Outcome\n",
      "0    268\n",
      "1    268\n",
      "Name: count, dtype: int64\n"
     ]
    },
    {
     "data": {
      "text/plain": [
       "<Axes: title={'center': 'count (target)'}, xlabel='Outcome'>"
      ]
     },
     "execution_count": 14,
     "metadata": {},
     "output_type": "execute_result"
    },
    {
     "data": {
      "image/png": "[encoded data removed]",
      "text/plain": [
       "<Figure size 200x200 with 1 Axes>"
      ]
     },
     "metadata": {},
     "output_type": "display_data"
    }
   ],
   "source": [
    "plt.figure(figsize=(2,2))\n",
    "class_0_under = class_0.sample(class_count_1)\n",
    "data_under = pd.concat([class_0_under, class_1], axis=0)\n",
    "print(\"total class of 1 and 0:\",data_under['Outcome'].value_counts())\n",
    "data_under['Outcome'].value_counts().plot(kind='bar', title='count (target)')"
   ]
  },
  {
   "cell_type": "markdown",
   "id": "1fac3631-0756-4959-bfed-f5cce42161de",
   "metadata": {},
   "source": [
    "Essentially performing the same steps as before but now renaming the variables to indicate that it is working on the new under sampled data"
   ]
  },
  {
   "cell_type": "code",
   "execution_count": 15,
   "id": "8e27db81-2a6c-40f2-84ea-46cc9cb9228c",
   "metadata": {},
   "outputs": [],
   "source": [
    "# split the data into features and target labels\n",
    "features_under = data_under.drop('Outcome', axis=1)\n",
    "labels_under = data_under['Outcome']\n",
    "\n",
    "# perform train test split\n",
    "x_train_under, x_test_under, y_train_under, y_test_under = train_test_split(features_under, labels_under, test_size=0.2, random_state=2)\n",
    "\n",
    "# standardize the data\n",
    "standard_scaler = StandardScaler()\n",
    "x_train_scaled_under = standard_scaler.fit_transform(x_train_under)\n",
    "x_test_scaled_under = standard_scaler.transform(x_test_under)"
   ]
  },
  {
   "cell_type": "code",
   "execution_count": 16,
   "id": "922ed48e-2e56-48e5-9119-f27726e77bdc",
   "metadata": {},
   "outputs": [
    {
     "name": "stdout",
     "output_type": "stream",
     "text": [
      "Train Accuracy: 76.87 % \n",
      " Test Accuracy: 77.78 %\n",
      "Test Confusion Matrix:\n",
      "[[39 17]\n",
      " [ 7 45]]\n",
      "Test Classification Report:\n",
      "              precision    recall  f1-score   support\n",
      "\n",
      "           0       0.85      0.70      0.76        56\n",
      "           1       0.73      0.87      0.79        52\n",
      "\n",
      "    accuracy                           0.78       108\n",
      "   macro avg       0.79      0.78      0.78       108\n",
      "weighted avg       0.79      0.78      0.78       108\n",
      "\n"
     ]
    }
   ],
   "source": [
    "svmc_under = linear_svm_classifier(learning_rate = 0.01, num_iter=1000, reg_lambda=0.01)\n",
    "svmc_under.fit(x_train_scaled_under, y_train_under)\n",
    "\n",
    "train_predictions_under = svmc_under.predict(x_train_scaled_under)\n",
    "test_predictions_under = svmc_under.predict(x_test_scaled_under)\n",
    "\n",
    "train_accuracy_under, test_accuracy_under = accuracy_score(y_train_under, train_predictions_under), accuracy_score(y_test_under, test_predictions_under)\n",
    "train_conf_m_under, test_conf_m_under = confusion_matrix(y_train_under, train_predictions_under), confusion_matrix(y_test_under, test_predictions_under)\n",
    "train_classification_rep_under, test_classification_rep_under = classification_report(y_train_under, train_predictions_under), classification_report(y_test_under, test_predictions_under)\n",
    "\n",
    "print(f\"Train Accuracy: {round(train_accuracy_under*100, 2)} % \\n Test Accuracy: {round(test_accuracy_under*100,2)} %\")\n",
    "print(f\"Test Confusion Matrix:\\n{test_conf_m_under}\")\n",
    "print(f\"Test Classification Report:\\n{test_classification_rep_under}\")"
   ]
  },
  {
   "cell_type": "markdown",
   "id": "3c77ea97-2454-495a-8a55-9e64ae3e29fe",
   "metadata": {},
   "source": [
    "##### Random Oversampling of class 1"
   ]
  },
  {
   "cell_type": "code",
   "execution_count": 17,
   "id": "ed1f29de-7c04-4a28-8527-9702a1357e8f",
   "metadata": {},
   "outputs": [
    {
     "name": "stdout",
     "output_type": "stream",
     "text": [
      "total class of 1 and 0: Outcome\n",
      "1    500\n",
      "0    500\n",
      "Name: count, dtype: int64\n"
     ]
    },
    {
     "data": {
      "text/plain": [
       "<Axes: title={'center': 'count (target)'}, xlabel='Outcome'>"
      ]
     },
     "execution_count": 17,
     "metadata": {},
     "output_type": "execute_result"
    },
    {
     "data": {
      "image/png": "[encoded data removed]",
      "text/plain": [
       "<Figure size 200x200 with 1 Axes>"
      ]
     },
     "metadata": {},
     "output_type": "display_data"
    }
   ],
   "source": [
    "plt.figure(figsize=(2,2))\n",
    "class_1_over = class_1.sample(class_count_0, replace=True)\n",
    "data_over = pd.concat([class_1_over, class_0], axis=0)\n",
    "print(\"total class of 1 and 0:\",data_over['Outcome'].value_counts())# plot the count after under-sampeling\n",
    "data_over['Outcome'].value_counts().plot(kind='bar', title='count (target)')"
   ]
  },
  {
   "cell_type": "code",
   "execution_count": 18,
   "id": "415a7b0b-b4f9-4860-bb01-285c07c0893e",
   "metadata": {},
   "outputs": [],
   "source": [
    "# split the data into features and target labels\n",
    "features_over = data_over.drop('Outcome', axis=1)\n",
    "labels_over = data_over['Outcome']\n",
    "\n",
    "# perform train test split\n",
    "x_train_over, x_test_over, y_train_over, y_test_over = train_test_split(features_over, labels_over, test_size=0.2, random_state=2)\n",
    "\n",
    "# standardize the data\n",
    "standard_scaler = StandardScaler()\n",
    "x_train_scaled_over = standard_scaler.fit_transform(x_train_over)\n",
    "x_test_scaled_over = standard_scaler.transform(x_test_over)"
   ]
  },
  {
   "cell_type": "code",
   "execution_count": 19,
   "id": "8086682f-7fb0-498d-a45d-67ffd7151e10",
   "metadata": {},
   "outputs": [
    {
     "name": "stdout",
     "output_type": "stream",
     "text": [
      "Train Accuracy: 72.5 % \n",
      " Test Accuracy: 71.0 %\n",
      "Test Confusion Matrix:\n",
      "[[90 12]\n",
      " [46 52]]\n",
      "Test Classification Report:\n",
      "              precision    recall  f1-score   support\n",
      "\n",
      "           0       0.66      0.88      0.76       102\n",
      "           1       0.81      0.53      0.64        98\n",
      "\n",
      "    accuracy                           0.71       200\n",
      "   macro avg       0.74      0.71      0.70       200\n",
      "weighted avg       0.74      0.71      0.70       200\n",
      "\n"
     ]
    }
   ],
   "source": [
    "svmc_over = linear_svm_classifier(learning_rate = 0.01, num_iter=1000, reg_lambda=0.01)\n",
    "svmc_over.fit(x_train_scaled_over, y_train_over)\n",
    "\n",
    "train_predictions_over = svmc_over.predict(x_train_scaled_over)\n",
    "test_predictions_over = svmc_over.predict(x_test_scaled_over)\n",
    "\n",
    "train_accuracy_over, test_accuracy_over = accuracy_score(y_train_over, train_predictions_over), accuracy_score(y_test_over, test_predictions_over)\n",
    "train_conf_m_over, test_conf_m_over = confusion_matrix(y_train_over, train_predictions_over), confusion_matrix(y_test_over, test_predictions_over)\n",
    "train_classification_rep_over, test_classification_rep_over = classification_report(y_train_over, train_predictions_over), classification_report(y_test_over, test_predictions_over)\n",
    "\n",
    "print(f\"Train Accuracy: {round(train_accuracy_over*100, 2)} % \\n Test Accuracy: {round(test_accuracy_over*100,2)} %\")\n",
    "print(f\"Test Confusion Matrix:\\n{test_conf_m_over}\")\n",
    "print(f\"Test Classification Report:\\n{test_classification_rep_over}\")"
   ]
  },
  {
   "cell_type": "markdown",
   "id": "4ee6af73-9325-404d-b98a-69a15eaf7cb5",
   "metadata": {},
   "source": [
    "These naive techniques of random undersampling or random oversampling provide reasonably good results with very little computation, but that comes with certain costs"
   ]
  },
  {
   "cell_type": "markdown",
   "id": "2038df1f-0ebe-4ff4-bb21-e36d69d0a1ce",
   "metadata": {},
   "source": [
    "Issues of Random over sampling \n",
    "1. Over-sampling by duplicating instances of the minority class can lead to overfitting, where the model becomes too specialized to the training data and may not generalize well to new, unseen data\n",
    "2. Duplicating instances of the minority class might artificially inflate the importance of certain patterns or features associated with that class, leading to biased model predictions\n",
    "3. Increased computation time that is a result of artificially increasing the size of data."
   ]
  },
  {
   "cell_type": "markdown",
   "id": "e49bebee-6edd-420f-9462-108b1d4efe94",
   "metadata": {},
   "source": [
    "Issues of Random under sampling\n",
    "1. By randomly removing instances from the majority class, you may lose valuable information, especially if the dataset is small. This can result in a less representative sample of the majority class\n",
    "2. Randomly selecting instances for removal might introduce bias if the instances chosen do not accurately represent the entire majority class. This can impact the model's ability to generalize"
   ]
  },
  {
   "cell_type": "markdown",
   "id": "f25f3e05-1961-41fc-9430-50aac2a38e6b",
   "metadata": {},
   "source": [
    "### Compare with Sklearn.SVM.SVC "
   ]
  },
  {
   "cell_type": "code",
   "execution_count": 20,
   "id": "623f1fc8-fde5-4435-bf8c-0fcb6501ae3f",
   "metadata": {},
   "outputs": [
    {
     "data": {
      "text/plain": [
       "0.7719869706840391"
      ]
     },
     "execution_count": 20,
     "metadata": {},
     "output_type": "execute_result"
    }
   ],
   "source": [
    "classifier = SVC(random_state=2, C=1, kernel='linear')\n",
    "classifier.fit(x_train_scaled, y_train)\n",
    "\n",
    "train_predictions1 = classifier.predict(x_train_scaled)\n",
    "accuracy_score(y_train, train_predictions1)"
   ]
  },
  {
   "cell_type": "code",
   "execution_count": 21,
   "id": "20f94602-eda9-4883-8c31-36fe0c9613d4",
   "metadata": {},
   "outputs": [
    {
     "data": {
      "text/plain": [
       "177"
      ]
     },
     "execution_count": 21,
     "metadata": {},
     "output_type": "execute_result"
    }
   ],
   "source": [
    "train_predictions1.sum()"
   ]
  },
  {
   "cell_type": "markdown",
   "id": "e52caa67-ec2a-409c-9a13-843e1886dcbb",
   "metadata": {},
   "source": [
    "These are the default parameters that the SVC classifier has\n",
    "C=1.0, kernel='rbf', degree=3, gamma='scale', coef0=0.0, shrinking=True, probability=False, tol=0.001, cache_size=200, max_iter=-1, decision_function_shape='ovr'. These constraints are not replicated in our implementation, therefore the difference in performance."
   ]
  },
  {
   "cell_type": "markdown",
   "id": "10ffc748-7391-4733-8e5d-79154a461b5b",
   "metadata": {},
   "source": [
    "Lets make the class more functional by adding a couple of other parameters to the class"
   ]
  },
  {
   "cell_type": "markdown",
   "id": "a2a90a1f-2c3c-4fe8-8538-dfe14408768d",
   "metadata": {},
   "source": [
    "### Using CVXOPT to perform the optimization of quadratic optimization of svm using kernels"
   ]
  },
  {
   "cell_type": "markdown",
   "id": "2f76a80e-b4ca-4cf6-8093-74e8ee83f90f",
   "metadata": {},
   "source": [
    "Lets try performing a convex optimization problem of a quadratic function subject to linear constraints and extend it to SVM with kernels"
   ]
  },
  {
   "cell_type": "markdown",
   "id": "1dbe82c4-5069-4c57-8a20-8167bf2686f1",
   "metadata": {},
   "source": [
    "$$Minimize: 2x1^2+x2^2+x1x2+x1+x2 $$\n",
    "$$Subject~to:$$\n",
    "$$x1>=0 $$\n",
    "$$x2>=0 $$\n",
    "$$x1+x2=1 $$"
   ]
  },
  {
   "cell_type": "code",
   "execution_count": 22,
   "id": "ba4a9b91-5676-436d-945c-d2d29f10e965",
   "metadata": {},
   "outputs": [
    {
     "name": "stdout",
     "output_type": "stream",
     "text": [
      "     pcost       dcost       gap    pres   dres\n",
      " 0:  1.8889e+00  7.7778e-01  1e+00  2e-16  2e+00\n",
      " 1:  1.8769e+00  1.8320e+00  4e-02  1e-16  6e-02\n",
      " 2:  1.8750e+00  1.8739e+00  1e-03  2e-16  5e-04\n",
      " 3:  1.8750e+00  1.8750e+00  1e-05  1e-16  5e-06\n",
      " 4:  1.8750e+00  1.8750e+00  1e-07  3e-16  5e-08\n",
      "Optimal solution found.\n"
     ]
    }
   ],
   "source": [
    "Q = 2*matrix([ [2, .5], [.5, 1] ])\n",
    "p = matrix([1.0, 1.0])\n",
    "G = matrix([[-1.0,0.0],[0.0,-1.0]])\n",
    "h = matrix([0.0,0.0])\n",
    "A = matrix([1.0, 1.0], (1,2))\n",
    "b = matrix(1.0)\n",
    "sol=solvers.qp(Q, p, G, h, A, b)"
   ]
  },
  {
   "cell_type": "code",
   "execution_count": 23,
   "id": "b2df8bc1-f12a-4b3b-b240-c73e218fcd48",
   "metadata": {},
   "outputs": [
    {
     "name": "stdout",
     "output_type": "stream",
     "text": [
      "[ 2.50e-01]\n",
      "[ 7.50e-01]\n",
      "\n"
     ]
    }
   ],
   "source": [
    "print(sol['x'])"
   ]
  },
  {
   "cell_type": "code",
   "execution_count": 24,
   "id": "945d80e3-d407-4813-ad6c-3ffc5c28e665",
   "metadata": {},
   "outputs": [],
   "source": [
    "class SVM:\n",
    "    def __init__(self, kernel='linear', C=1.0, degree=3, gamma='auto'):\n",
    "        self.kernel = kernel\n",
    "        self.C = C\n",
    "        self.degree = degree\n",
    "        self.gamma = gamma\n",
    "\n",
    "    def _kernel_function(self, X1, X2):\n",
    "        if self.kernel == 'linear':\n",
    "            return np.dot(X1, X2.T)\n",
    "        elif self.kernel == 'poly':\n",
    "            return (np.dot(X1, X2.T) + 1) ** self.degree\n",
    "        elif self.kernel == 'rbf':\n",
    "            if self.gamma == 'auto':\n",
    "                self.gamma = 1.0 / X1.shape[1]  # Default gamma value\n",
    "            X1 = X1.reshape((X1.shape[0], -1))\n",
    "            X2 = X2.reshape((X2.shape[0], -1))\n",
    "            return np.exp(-self.gamma * np.linalg.norm(X1[:, np.newaxis] - X2, axis=2) ** 2)\n",
    "        else:\n",
    "            raise ValueError(f\"Unsupported kernel: {self.kernel}\")\n",
    "        \n",
    "    def fit(self, X, y):\n",
    "        n_samples, n_features = X.shape\n",
    "\n",
    "        y = y.astype(float)\n",
    "\n",
    "        # Compute the kernel matrix\n",
    "        K = self._kernel_function(X, X)\n",
    "\n",
    "        P = matrix(np.outer(y, y) * K)\n",
    "        q = matrix(-np.ones(n_samples))\n",
    "        G = matrix(np.vstack((-np.eye(n_samples), np.eye(n_samples))))\n",
    "        h = matrix(np.hstack((np.zeros(n_samples), np.ones(n_samples) * self.C)))\n",
    "\n",
    "        A = matrix(y, (1, n_samples))\n",
    "        b = matrix(0.0)\n",
    "\n",
    "        # Solve the quadratic programming problem using CVXOPT\n",
    "        sol = solvers.qp(P, q, G, h, A, b)\n",
    "\n",
    "        # Extract the Lagrange multipliers from the solution\n",
    "        alpha = np.ravel(sol['x'])\n",
    "\n",
    "        # Support vectors have non-zero lagrange multipliers\n",
    "        sv_idx = alpha > 1e-5\n",
    "        self.support_vectors = X[sv_idx, :]\n",
    "        self.support_vector_labels = y[sv_idx]\n",
    "        self.dual_coef = alpha[sv_idx] * self.support_vector_labels\n",
    "\n",
    "        # Intercept\n",
    "        self.intercept = np.mean(self.support_vector_labels - np.dot(self.dual_coef, self._kernel_function(self.support_vectors, self.support_vectors)))\n",
    "\n",
    "    def predict(self, X):\n",
    "        kernel_values = self._kernel_function(X, self.support_vectors)\n",
    "        print(\"Kernel Values Shape:\", kernel_values.shape)\n",
    "        print(\"Dual Coefficients:\", self.dual_coef)\n",
    "        print(\"Intercept:\", self.intercept)\n",
    "\n",
    "    \n",
    "        y_pred = np.sign(np.dot(kernel_values, self.dual_coef) + self.intercept)\n",
    "    \n",
    "        return y_pred.astype(int)\n"
   ]
  },
  {
   "cell_type": "code",
   "execution_count": 25,
   "id": "8b38bc7b-03c4-4c60-9000-0c4900bdc260",
   "metadata": {},
   "outputs": [
    {
     "name": "stdout",
     "output_type": "stream",
     "text": [
      "     pcost       dcost       gap    pres   dres\n",
      " 0: -1.9745e+04 -2.0360e+06  2e+06  1e-02  3e-14\n",
      " 1: -2.0114e+04 -5.9275e+04  4e+04  3e-04  1e-14\n",
      " 2: -3.5313e+04 -3.9554e+04  4e+03  2e-05  2e-14\n",
      " 3: -3.9062e+04 -3.9109e+04  5e+01  2e-07  2e-14\n",
      " 4: -3.9100e+04 -3.9100e+04  5e-01  2e-09  2e-14\n",
      " 5: -3.9100e+04 -3.9100e+04  5e-03  2e-11  2e-14\n",
      "Optimal solution found.\n",
      "Kernel Values Shape: (154, 391)\n",
      "Dual Coefficients: 602    0.0\n",
      "623    0.0\n",
      "589    0.0\n",
      "610    0.0\n",
      "342    0.0\n",
      "      ... \n",
      "466    0.0\n",
      "299    0.0\n",
      "534    0.0\n",
      "527    0.0\n",
      "168    0.0\n",
      "Name: Outcome, Length: 391, dtype: float64\n",
      "Intercept: 0.0\n",
      "Accuracy: 0.7077922077922078\n"
     ]
    }
   ],
   "source": [
    "svm = SVM(kernel='linear', C=100, gamma=1)\n",
    "svm.fit(x_train_scaled, y_train)\n",
    "\n",
    "# Make predictions\n",
    "y_pred = svm.predict(x_test_scaled)\n",
    "\n",
    "# Evaluate accuracy\n",
    "accuracy = np.mean(y_pred == y_test)\n",
    "print(f\"Accuracy: {accuracy}\")"
   ]
  },
  {
   "cell_type": "markdown",
   "id": "18c2eedc-8874-47b5-8ea3-00bbe7e71ec3",
   "metadata": {},
   "source": [
    "### Multi class classification"
   ]
  },
  {
   "cell_type": "markdown",
   "id": "ebf655d1-db0f-4b57-b013-025af944fa44",
   "metadata": {},
   "source": [
    "Performing a multi class classification using the concept of \n",
    "1. One vs All - results in K different classifiers, with K being the number of classes\n",
    "2. One vs one - results in K(K-1)/2 classifiers, with K being the number of classes"
   ]
  },
  {
   "cell_type": "code",
   "execution_count": 26,
   "id": "a100bcb2-4ffa-435d-8eb0-266482732305",
   "metadata": {},
   "outputs": [],
   "source": [
    "class OneVsAllSVM:\n",
    "    def __init__(self, kernel='linear', C=1.0):\n",
    "        self.kernel = kernel\n",
    "        self.C = C\n",
    "        self.models = []\n",
    "\n",
    "    def fit(self, X, y):\n",
    "        unique_classes = np.unique(y)\n",
    "        num_classes = len(unique_classes)\n",
    "\n",
    "        for i in range(num_classes):\n",
    "            # Create binary labels for the current class\n",
    "            binary_labels = np.where(y == unique_classes[i], 1, 0)\n",
    "\n",
    "            # Train a binary SVM for the current class\n",
    "            model = SVC(kernel=self.kernel, C=self.C)\n",
    "            model.fit(X, binary_labels)\n",
    "            self.models.append(model)\n",
    "\n",
    "    def predict(self, X):\n",
    "        # Make predictions using all binary classifiers\n",
    "        predictions = [model.predict(X) for model in self.models]\n",
    "\n",
    "        # Select the class with the highest decision value\n",
    "        predicted_labels = np.argmax(predictions, axis=0)\n",
    "\n",
    "        # Map back to original class labels\n",
    "        unique_classes = np.unique(predicted_labels)\n",
    "        class_mapping = {i: unique_classes[i] for i in range(len(unique_classes))}\n",
    "        mapped_labels = np.vectorize(class_mapping.get)(predicted_labels)\n",
    "\n",
    "        return mapped_labels"
   ]
  },
  {
   "cell_type": "code",
   "execution_count": 27,
   "id": "a1a3fa16-e4ff-49d8-8019-1793bafae82b",
   "metadata": {},
   "outputs": [],
   "source": [
    "ova_svm = OneVsAllSVM(kernel='linear', C=1.0)\n",
    "ova_svm.fit(x_train_scaled, y_train)"
   ]
  },
  {
   "cell_type": "code",
   "execution_count": 28,
   "id": "d6fad029-983f-4d29-85e3-f5c2ff88add7",
   "metadata": {},
   "outputs": [
    {
     "name": "stdout",
     "output_type": "stream",
     "text": [
      "Accuracy: 0.7662337662337663\n"
     ]
    }
   ],
   "source": [
    "predicted_labels = ova_svm.predict(x_test_scaled)\n",
    "# Evaluate accuracy\n",
    "accuracy = np.mean(predicted_labels == y_test)\n",
    "print(f\"Accuracy: {accuracy}\")"
   ]
  },
  {
   "cell_type": "code",
   "execution_count": 29,
   "id": "d739e53a-e278-442e-a309-4d3acdbc19e6",
   "metadata": {},
   "outputs": [],
   "source": [
    "import itertools\n",
    "class OneVsOneSVM:\n",
    "    def __init__(self, kernel='linear', C=1.0):\n",
    "        self.kernel = kernel\n",
    "        self.C = C\n",
    "        self.models = []\n",
    "\n",
    "    def fit(self, X, y):\n",
    "        unique_classes = np.unique(y)\n",
    "        num_classes = len(unique_classes)\n",
    "\n",
    "        # Create all possible pairs of classes\n",
    "        class_pairs = list(itertools.combinations(unique_classes, 2))\n",
    "\n",
    "        for pair in class_pairs:\n",
    "            # Select data points corresponding to the current pair of classes\n",
    "            pair_mask = np.logical_or(y == pair[0], y == pair[1])\n",
    "            X_pair = X[pair_mask]\n",
    "            y_pair = y[pair_mask]\n",
    "\n",
    "            # Convert labels to -1 and 1 for SVM\n",
    "            y_pair_svm = np.where(y_pair == pair[0], 1, -1)\n",
    "\n",
    "            # Train a binary SVM for the current pair of classes\n",
    "            model = SVC(kernel=self.kernel, C=self.C)\n",
    "            model.fit(X_pair, y_pair_svm)\n",
    "            self.models.append((pair, model))\n",
    "\n",
    "    def predict(self, X):\n",
    "        # Initialize an array to store the decision values for each pair\n",
    "        decision_values = np.zeros((X.shape[0], len(self.models)))\n",
    "\n",
    "        for i, (pair, model) in enumerate(self.models):\n",
    "            # Make predictions using the binary classifier for the current pair\n",
    "            decision_values[:, i] = model.predict(X)\n",
    "\n",
    "        # Select the class with the most votes (highest cumulative decision value)\n",
    "        predicted_labels = np.argmax(np.sum(decision_values, axis=1), axis=0)\n",
    "\n",
    "        # Map back to original class labels\n",
    "        unique_classes = np.unique([pair[0] for pair, _ in self.models] + [pair[1] for pair, _ in self.models])\n",
    "        class_mapping = {i: unique_classes[i] for i in range(len(unique_classes))}\n",
    "        mapped_label = class_mapping[predicted_labels]\n",
    "\n",
    "        return mapped_label"
   ]
  },
  {
   "cell_type": "code",
   "execution_count": 30,
   "id": "db814c46-6a3a-4951-b694-51ae392d707b",
   "metadata": {},
   "outputs": [],
   "source": [
    "ovo_svm = OneVsOneSVM(kernel='linear', C=1.0)\n",
    "ovo_svm.fit(x_train_scaled, y_train)"
   ]
  },
  {
   "cell_type": "code",
   "execution_count": 31,
   "id": "756c2f99-8d56-4ab7-9c0a-99519fafee33",
   "metadata": {},
   "outputs": [
    {
     "name": "stdout",
     "output_type": "stream",
     "text": [
      "Accuracy: 0.7662337662337663\n"
     ]
    }
   ],
   "source": [
    "predicted_labels = ova_svm.predict(x_test_scaled)\n",
    "# Evaluate accuracy\n",
    "accuracy = np.mean(predicted_labels == y_test)\n",
    "print(f\"Accuracy: {accuracy}\")"
   ]
  },
  {
   "cell_type": "markdown",
   "id": "1a7530c5-7582-4342-b95c-6195b729b346",
   "metadata": {},
   "source": [
    "As we can see Both of them Give identical results for similar parameters"
   ]
  },
  {
   "cell_type": "markdown",
   "id": "641a6aa1-d957-4407-bd44-8e04d40b09ea",
   "metadata": {},
   "source": [
    "We will explore more on multi class classification using SVM further "
   ]
  },
  {
   "cell_type": "code",
   "execution_count": 32,
   "id": "36c627f9-99b2-4fb6-b28d-1c66386d221d",
   "metadata": {},
   "outputs": [
    {
     "data": {
      "text/plain": [
       "((614, 8), (154, 8), (614,), (154,))"
      ]
     },
     "execution_count": 32,
     "metadata": {},
     "output_type": "execute_result"
    }
   ],
   "source": [
    "x_train_scaled.shape, x_test_scaled.shape, y_train.shape, y_test.shape"
   ]
  },
  {
   "cell_type": "code",
   "execution_count": 35,
   "id": "58e93cfd-f74d-451e-9bcf-2adef46fd539",
   "metadata": {},
   "outputs": [
    {
     "data": {
      "text/plain": [
       "array([-0.56211528, -1.06707571,  0.25332145, -0.07781693, -0.24192663,\n",
       "       -0.35959631, -0.72413845, -0.96676677])"
      ]
     },
     "execution_count": 35,
     "metadata": {},
     "output_type": "execute_result"
    }
   ],
   "source": [
    "x_test_scaled[0]"
   ]
  },
  {
   "cell_type": "code",
   "execution_count": 86,
   "id": "fdadda11-0e92-4f1a-afc7-1fd2a6029149",
   "metadata": {},
   "outputs": [
    {
     "data": {
      "text/plain": [
       "Pregnancies                   1.000\n",
       "Glucose                      95.000\n",
       "BloodPressure                82.000\n",
       "SkinThickness                25.000\n",
       "Insulin                     180.000\n",
       "BMI                          35.000\n",
       "DiabetesPedigreeFunction      0.233\n",
       "Age                          43.000\n",
       "Name: 429, dtype: float64"
      ]
     },
     "execution_count": 86,
     "metadata": {},
     "output_type": "execute_result"
    }
   ],
   "source": [
    "x_train.iloc[1]"
   ]
  },
  {
   "cell_type": "code",
   "execution_count": 51,
   "id": "d12b650b-93c7-4f0d-9fb5-33c9c098eb18",
   "metadata": {},
   "outputs": [
    {
     "data": {
      "text/plain": [
       "602    0\n",
       "429    1\n",
       "623    0\n",
       "209    1\n",
       "589    0\n",
       "      ..\n",
       "534    0\n",
       "584    1\n",
       "493    1\n",
       "527    0\n",
       "168    0\n",
       "Name: Outcome, Length: 614, dtype: int64"
      ]
     },
     "execution_count": 51,
     "metadata": {},
     "output_type": "execute_result"
    }
   ],
   "source": [
    "y_train"
   ]
  },
  {
   "cell_type": "code",
   "execution_count": 54,
   "id": "50ebdc4a-f495-4f5f-9d6c-ec58ce1e789d",
   "metadata": {},
   "outputs": [
    {
     "data": {
      "text/plain": [
       "0"
      ]
     },
     "execution_count": 54,
     "metadata": {},
     "output_type": "execute_result"
    }
   ],
   "source": [
    "y_train.iloc[143]"
   ]
  },
  {
   "cell_type": "code",
   "execution_count": 60,
   "id": "c20bdb59-ae30-465d-899d-de6871ba7a8a",
   "metadata": {},
   "outputs": [],
   "source": [
    "from statistics import mode"
   ]
  },
  {
   "cell_type": "code",
   "execution_count": 61,
   "id": "62d086eb-2194-453b-b622-1da64fa4c8be",
   "metadata": {},
   "outputs": [],
   "source": [
    "def knn(train, train_label, test, test_label, k):\n",
    "    pred = []\n",
    "    for w in range(len(test)): # iterating through all the 3000 data points of the test set\n",
    "        test_1 = test[w] # taking one image from test set (1*8 dimensional vector)\n",
    "        diff = (train - test_1) # test_1 will be broadcasted to match the dimensions of train (614*8). diff will be 614*8 dim\n",
    "        dist = np.sqrt(np.sum(np.square(diff), axis=1)) # 614*8 dim\n",
    "        nearest_lbs = train_label.iloc[np.argsort(dist)[:k]] \n",
    "        major = mode(nearest_lbs)\n",
    "        pred.append(major)\n",
    "    cm = pd.DataFrame(confusion_matrix(test_label, pred))\n",
    "    err = 1-accuracy_score(test_label, pred)\n",
    "    return [err,cm,pred]"
   ]
  },
  {
   "cell_type": "code",
   "execution_count": 83,
   "id": "9bc0b117-9892-4811-92a2-86edac604b49",
   "metadata": {},
   "outputs": [],
   "source": [
    "Q1 = knn(x_train_scaled, y_train, x_test_scaled, y_test, 3)"
   ]
  },
  {
   "cell_type": "code",
   "execution_count": 84,
   "id": "c6ad795a-e3d4-4e1c-8982-5b2210812e03",
   "metadata": {},
   "outputs": [
    {
     "data": {
      "text/plain": [
       "0.24025974025974028"
      ]
     },
     "execution_count": 84,
     "metadata": {},
     "output_type": "execute_result"
    }
   ],
   "source": [
    "Q1[0]"
   ]
  },
  {
   "cell_type": "code",
   "execution_count": 85,
   "id": "5e76f421-988b-4a19-8d88-eeb4eb781e83",
   "metadata": {},
   "outputs": [
    {
     "data": {
      "text/html": [
       "<div>\n",
       "<style scoped>\n",
       "    .dataframe tbody tr th:only-of-type {\n",
       "        vertical-align: middle;\n",
       "    }\n",
       "\n",
       "    .dataframe tbody tr th {\n",
       "        vertical-align: top;\n",
       "    }\n",
       "\n",
       "    .dataframe thead th {\n",
       "        text-align: right;\n",
       "    }\n",
       "</style>\n",
       "<table border=\"1\" class=\"dataframe\">\n",
       "  <thead>\n",
       "    <tr style=\"text-align: right;\">\n",
       "      <th></th>\n",
       "      <th>0</th>\n",
       "      <th>1</th>\n",
       "    </tr>\n",
       "  </thead>\n",
       "  <tbody>\n",
       "    <tr>\n",
       "      <th>0</th>\n",
       "      <td>92</td>\n",
       "      <td>17</td>\n",
       "    </tr>\n",
       "    <tr>\n",
       "      <th>1</th>\n",
       "      <td>20</td>\n",
       "      <td>25</td>\n",
       "    </tr>\n",
       "  </tbody>\n",
       "</table>\n",
       "</div>"
      ],
      "text/plain": [
       "    0   1\n",
       "0  92  17\n",
       "1  20  25"
      ]
     },
     "execution_count": 85,
     "metadata": {},
     "output_type": "execute_result"
    }
   ],
   "source": [
    "Q1[1]"
   ]
  },
  {
   "cell_type": "code",
   "execution_count": null,
   "id": "69c36ab4-02c6-4b92-8fef-8407fbcafaeb",
   "metadata": {},
   "outputs": [],
   "source": []
  }
 ],
 "metadata": {
  "kernelspec": {
   "display_name": "Python 3 (ipykernel)",
   "language": "python",
   "name": "python3"
  },
  "language_info": {
   "codemirror_mode": {
    "name": "ipython",
    "version": 3
   },
   "file_extension": ".py",
   "mimetype": "text/x-python",
   "name": "python",
   "nbconvert_exporter": "python",
   "pygments_lexer": "ipython3",
   "version": "3.10.13"
  }
 },
 "nbformat": 4,
 "nbformat_minor": 5
}
