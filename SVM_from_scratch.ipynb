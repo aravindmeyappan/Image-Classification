{
 "cells": [
  {
   "cell_type": "code",
   "execution_count": 1,
   "id": "f4a7a63a-a0a2-45c1-a9ca-768b9dd9f7bf",
   "metadata": {},
   "outputs": [],
   "source": [
    "import numpy as np"
   ]
  },
  {
   "cell_type": "markdown",
   "id": "77111332-3dc8-414e-9e8e-1402e113d216",
   "metadata": {},
   "source": [
    "### Support Vector Machine Classifier"
   ]
  },
  {
   "cell_type": "markdown",
   "id": "fac971a6-12b6-42ab-ae2f-7149ee9056ce",
   "metadata": {},
   "source": [
    "Generally any model will have 4 components:\n",
    "1. The hyperparameters (defined by init or initiation function)\n",
    "2. The fitting (estimating the model parameters using the given data)\n",
    "3. Updating parameters\n",
    "4. Predicting the new unseen examples"
   ]
  },
  {
   "cell_type": "code",
   "execution_count": 15,
   "id": "3f2ae56d-09bc-4a36-8b40-cb84317fa595",
   "metadata": {},
   "outputs": [],
   "source": [
    "class svm_classifier():\n",
    "\n",
    "    def __init__(self, learning_rate, num_iter, reg_lambda):\n",
    "        self.learning_rate = learning_rate\n",
    "        self.num_iter = num_iter\n",
    "        self.reg_lambda = reg_lambda\n",
    "    \n",
    "    def fit(self, X, Y):\n",
    "\n",
    "        # getting the shape of x in order to find out the dimension of weights to initialize\n",
    "        self.m, self.n = X.shape # m --> number of examples, n --> number of features in input data\n",
    "\n",
    "        # initialize weights\n",
    "        self.w = np.zeros(self.n) # w is a column vector of dimension n\n",
    "        self.b = 0 # bias can be assigned a scalar and while computation it can be broadcasted according to dimension of w.T*x\n",
    "        self.X = X\n",
    "        self.Y = Y\n",
    "\n",
    "        # gradient descent implementation\n",
    "        for i in range(self.num_iter):\n",
    "            self.update_weights()\n",
    "\n",
    "    def update_weights(self):\n",
    "\n",
    "        ## Label Encoding\n",
    "        # In svm classifier instead of the traditional approach of giving 0 to absence and 1 to presence of a phenomena\n",
    "        # we will encode it to 1 for presence and -1 for absence.\n",
    "        y_label = np.where(self.Y<=0, -1, 1)\n",
    "\n",
    "        # computing gradients at each pass\n",
    "        for idx,xi in enumerate(self.X): # iterating through each example(n dimensional vector) and its index (to check label)\n",
    "            condition = y_label[idx]*(np.dot(xi,self.w)-self.b) >= 1\n",
    "            if condition:\n",
    "                dw = 2*self.reg_lambda*self.w\n",
    "                db = 0\n",
    "            else:\n",
    "                dw = 2*self.reg_lambda*self.w - np.dot(xi,y_label[idx])\n",
    "                db = y_label[idx]\n",
    "        self.w -= self.learning_rate*dw\n",
    "        self.b -= self.learning_rate*db\n",
    "\n",
    "    def predict(self, X):\n",
    "        output = np.dot(X, self.w) - self.b\n",
    "        predicted_labels = np.sign(output)\n",
    "        y_hat = np.where(predicted_labels<=-1, 0, 1)\n",
    "        return y_hat"
   ]
  },
  {
   "cell_type": "code",
   "execution_count": 4,
   "id": "5a146a67-7fc7-4616-bebb-375f6cb48815",
   "metadata": {},
   "outputs": [],
   "source": [
    "## importing dependencies\n",
    "import pandas as pd\n",
    "from sklearn.preprocessing import StandardScaler\n",
    "from sklearn.model_selection import train_test_split\n",
    "from sklearn.metrics import accuracy_score\n",
    "from sklearn.svm import SVC"
   ]
  },
  {
   "cell_type": "code",
   "execution_count": 5,
   "id": "89dfcbcd-2504-480c-9eb8-6e07db9c1b18",
   "metadata": {},
   "outputs": [
    {
     "data": {
      "text/html": [
       "<div>\n",
       "<style scoped>\n",
       "    .dataframe tbody tr th:only-of-type {\n",
       "        vertical-align: middle;\n",
       "    }\n",
       "\n",
       "    .dataframe tbody tr th {\n",
       "        vertical-align: top;\n",
       "    }\n",
       "\n",
       "    .dataframe thead th {\n",
       "        text-align: right;\n",
       "    }\n",
       "</style>\n",
       "<table border=\"1\" class=\"dataframe\">\n",
       "  <thead>\n",
       "    <tr style=\"text-align: right;\">\n",
       "      <th></th>\n",
       "      <th>Pregnancies</th>\n",
       "      <th>Glucose</th>\n",
       "      <th>BloodPressure</th>\n",
       "      <th>SkinThickness</th>\n",
       "      <th>Insulin</th>\n",
       "      <th>BMI</th>\n",
       "      <th>DiabetesPedigreeFunction</th>\n",
       "      <th>Age</th>\n",
       "      <th>Outcome</th>\n",
       "    </tr>\n",
       "  </thead>\n",
       "  <tbody>\n",
       "    <tr>\n",
       "      <th>0</th>\n",
       "      <td>6</td>\n",
       "      <td>148</td>\n",
       "      <td>72</td>\n",
       "      <td>35</td>\n",
       "      <td>0</td>\n",
       "      <td>33.6</td>\n",
       "      <td>0.627</td>\n",
       "      <td>50</td>\n",
       "      <td>1</td>\n",
       "    </tr>\n",
       "    <tr>\n",
       "      <th>1</th>\n",
       "      <td>1</td>\n",
       "      <td>85</td>\n",
       "      <td>66</td>\n",
       "      <td>29</td>\n",
       "      <td>0</td>\n",
       "      <td>26.6</td>\n",
       "      <td>0.351</td>\n",
       "      <td>31</td>\n",
       "      <td>0</td>\n",
       "    </tr>\n",
       "    <tr>\n",
       "      <th>2</th>\n",
       "      <td>8</td>\n",
       "      <td>183</td>\n",
       "      <td>64</td>\n",
       "      <td>0</td>\n",
       "      <td>0</td>\n",
       "      <td>23.3</td>\n",
       "      <td>0.672</td>\n",
       "      <td>32</td>\n",
       "      <td>1</td>\n",
       "    </tr>\n",
       "    <tr>\n",
       "      <th>3</th>\n",
       "      <td>1</td>\n",
       "      <td>89</td>\n",
       "      <td>66</td>\n",
       "      <td>23</td>\n",
       "      <td>94</td>\n",
       "      <td>28.1</td>\n",
       "      <td>0.167</td>\n",
       "      <td>21</td>\n",
       "      <td>0</td>\n",
       "    </tr>\n",
       "    <tr>\n",
       "      <th>4</th>\n",
       "      <td>0</td>\n",
       "      <td>137</td>\n",
       "      <td>40</td>\n",
       "      <td>35</td>\n",
       "      <td>168</td>\n",
       "      <td>43.1</td>\n",
       "      <td>2.288</td>\n",
       "      <td>33</td>\n",
       "      <td>1</td>\n",
       "    </tr>\n",
       "  </tbody>\n",
       "</table>\n",
       "</div>"
      ],
      "text/plain": [
       "   Pregnancies  Glucose  BloodPressure  SkinThickness  Insulin   BMI  \\\n",
       "0            6      148             72             35        0  33.6   \n",
       "1            1       85             66             29        0  26.6   \n",
       "2            8      183             64              0        0  23.3   \n",
       "3            1       89             66             23       94  28.1   \n",
       "4            0      137             40             35      168  43.1   \n",
       "\n",
       "   DiabetesPedigreeFunction  Age  Outcome  \n",
       "0                     0.627   50        1  \n",
       "1                     0.351   31        0  \n",
       "2                     0.672   32        1  \n",
       "3                     0.167   21        0  \n",
       "4                     2.288   33        1  "
      ]
     },
     "execution_count": 5,
     "metadata": {},
     "output_type": "execute_result"
    }
   ],
   "source": [
    "# loading\n",
    "input_path = r\"C:\\Users\\user\\Documents\\ML\\datasets\\Diabetes\\diabetes.csv\"\n",
    "dia_data = pd.read_csv(input_path)\n",
    "dia_data.head()"
   ]
  },
  {
   "cell_type": "code",
   "execution_count": 6,
   "id": "a62e9078-31de-48c2-8121-33746fca9c5a",
   "metadata": {},
   "outputs": [
    {
     "name": "stdout",
     "output_type": "stream",
     "text": [
      "<class 'pandas.core.frame.DataFrame'>\n",
      "RangeIndex: 768 entries, 0 to 767\n",
      "Data columns (total 9 columns):\n",
      " #   Column                    Non-Null Count  Dtype  \n",
      "---  ------                    --------------  -----  \n",
      " 0   Pregnancies               768 non-null    int64  \n",
      " 1   Glucose                   768 non-null    int64  \n",
      " 2   BloodPressure             768 non-null    int64  \n",
      " 3   SkinThickness             768 non-null    int64  \n",
      " 4   Insulin                   768 non-null    int64  \n",
      " 5   BMI                       768 non-null    float64\n",
      " 6   DiabetesPedigreeFunction  768 non-null    float64\n",
      " 7   Age                       768 non-null    int64  \n",
      " 8   Outcome                   768 non-null    int64  \n",
      "dtypes: float64(2), int64(7)\n",
      "memory usage: 54.1 KB\n"
     ]
    }
   ],
   "source": [
    "dia_data.info()"
   ]
  },
  {
   "cell_type": "code",
   "execution_count": 7,
   "id": "1f683e4b-4bad-448c-b620-b5d3b0f41bf7",
   "metadata": {},
   "outputs": [
    {
     "data": {
      "text/html": [
       "<div>\n",
       "<style scoped>\n",
       "    .dataframe tbody tr th:only-of-type {\n",
       "        vertical-align: middle;\n",
       "    }\n",
       "\n",
       "    .dataframe tbody tr th {\n",
       "        vertical-align: top;\n",
       "    }\n",
       "\n",
       "    .dataframe thead th {\n",
       "        text-align: right;\n",
       "    }\n",
       "</style>\n",
       "<table border=\"1\" class=\"dataframe\">\n",
       "  <thead>\n",
       "    <tr style=\"text-align: right;\">\n",
       "      <th></th>\n",
       "      <th>Pregnancies</th>\n",
       "      <th>Glucose</th>\n",
       "      <th>BloodPressure</th>\n",
       "      <th>SkinThickness</th>\n",
       "      <th>Insulin</th>\n",
       "      <th>BMI</th>\n",
       "      <th>DiabetesPedigreeFunction</th>\n",
       "      <th>Age</th>\n",
       "      <th>Outcome</th>\n",
       "    </tr>\n",
       "  </thead>\n",
       "  <tbody>\n",
       "    <tr>\n",
       "      <th>count</th>\n",
       "      <td>768.000000</td>\n",
       "      <td>768.000000</td>\n",
       "      <td>768.000000</td>\n",
       "      <td>768.000000</td>\n",
       "      <td>768.000000</td>\n",
       "      <td>768.000000</td>\n",
       "      <td>768.000000</td>\n",
       "      <td>768.000000</td>\n",
       "      <td>768.000000</td>\n",
       "    </tr>\n",
       "    <tr>\n",
       "      <th>mean</th>\n",
       "      <td>3.845052</td>\n",
       "      <td>120.894531</td>\n",
       "      <td>69.105469</td>\n",
       "      <td>20.536458</td>\n",
       "      <td>79.799479</td>\n",
       "      <td>31.992578</td>\n",
       "      <td>0.471876</td>\n",
       "      <td>33.240885</td>\n",
       "      <td>0.348958</td>\n",
       "    </tr>\n",
       "    <tr>\n",
       "      <th>std</th>\n",
       "      <td>3.369578</td>\n",
       "      <td>31.972618</td>\n",
       "      <td>19.355807</td>\n",
       "      <td>15.952218</td>\n",
       "      <td>115.244002</td>\n",
       "      <td>7.884160</td>\n",
       "      <td>0.331329</td>\n",
       "      <td>11.760232</td>\n",
       "      <td>0.476951</td>\n",
       "    </tr>\n",
       "    <tr>\n",
       "      <th>min</th>\n",
       "      <td>0.000000</td>\n",
       "      <td>0.000000</td>\n",
       "      <td>0.000000</td>\n",
       "      <td>0.000000</td>\n",
       "      <td>0.000000</td>\n",
       "      <td>0.000000</td>\n",
       "      <td>0.078000</td>\n",
       "      <td>21.000000</td>\n",
       "      <td>0.000000</td>\n",
       "    </tr>\n",
       "    <tr>\n",
       "      <th>25%</th>\n",
       "      <td>1.000000</td>\n",
       "      <td>99.000000</td>\n",
       "      <td>62.000000</td>\n",
       "      <td>0.000000</td>\n",
       "      <td>0.000000</td>\n",
       "      <td>27.300000</td>\n",
       "      <td>0.243750</td>\n",
       "      <td>24.000000</td>\n",
       "      <td>0.000000</td>\n",
       "    </tr>\n",
       "    <tr>\n",
       "      <th>50%</th>\n",
       "      <td>3.000000</td>\n",
       "      <td>117.000000</td>\n",
       "      <td>72.000000</td>\n",
       "      <td>23.000000</td>\n",
       "      <td>30.500000</td>\n",
       "      <td>32.000000</td>\n",
       "      <td>0.372500</td>\n",
       "      <td>29.000000</td>\n",
       "      <td>0.000000</td>\n",
       "    </tr>\n",
       "    <tr>\n",
       "      <th>75%</th>\n",
       "      <td>6.000000</td>\n",
       "      <td>140.250000</td>\n",
       "      <td>80.000000</td>\n",
       "      <td>32.000000</td>\n",
       "      <td>127.250000</td>\n",
       "      <td>36.600000</td>\n",
       "      <td>0.626250</td>\n",
       "      <td>41.000000</td>\n",
       "      <td>1.000000</td>\n",
       "    </tr>\n",
       "    <tr>\n",
       "      <th>max</th>\n",
       "      <td>17.000000</td>\n",
       "      <td>199.000000</td>\n",
       "      <td>122.000000</td>\n",
       "      <td>99.000000</td>\n",
       "      <td>846.000000</td>\n",
       "      <td>67.100000</td>\n",
       "      <td>2.420000</td>\n",
       "      <td>81.000000</td>\n",
       "      <td>1.000000</td>\n",
       "    </tr>\n",
       "  </tbody>\n",
       "</table>\n",
       "</div>"
      ],
      "text/plain": [
       "       Pregnancies     Glucose  BloodPressure  SkinThickness     Insulin  \\\n",
       "count   768.000000  768.000000     768.000000     768.000000  768.000000   \n",
       "mean      3.845052  120.894531      69.105469      20.536458   79.799479   \n",
       "std       3.369578   31.972618      19.355807      15.952218  115.244002   \n",
       "min       0.000000    0.000000       0.000000       0.000000    0.000000   \n",
       "25%       1.000000   99.000000      62.000000       0.000000    0.000000   \n",
       "50%       3.000000  117.000000      72.000000      23.000000   30.500000   \n",
       "75%       6.000000  140.250000      80.000000      32.000000  127.250000   \n",
       "max      17.000000  199.000000     122.000000      99.000000  846.000000   \n",
       "\n",
       "              BMI  DiabetesPedigreeFunction         Age     Outcome  \n",
       "count  768.000000                768.000000  768.000000  768.000000  \n",
       "mean    31.992578                  0.471876   33.240885    0.348958  \n",
       "std      7.884160                  0.331329   11.760232    0.476951  \n",
       "min      0.000000                  0.078000   21.000000    0.000000  \n",
       "25%     27.300000                  0.243750   24.000000    0.000000  \n",
       "50%     32.000000                  0.372500   29.000000    0.000000  \n",
       "75%     36.600000                  0.626250   41.000000    1.000000  \n",
       "max     67.100000                  2.420000   81.000000    1.000000  "
      ]
     },
     "execution_count": 7,
     "metadata": {},
     "output_type": "execute_result"
    }
   ],
   "source": [
    "dia_data.describe()"
   ]
  },
  {
   "cell_type": "code",
   "execution_count": 8,
   "id": "ebbb26b6-aa5e-4c41-87c2-fec531dce1f2",
   "metadata": {},
   "outputs": [],
   "source": [
    "features = dia_data.drop('Outcome', axis=1)\n",
    "labels = dia_data['Outcome']"
   ]
  },
  {
   "cell_type": "code",
   "execution_count": 20,
   "id": "45267eeb-1609-459a-b05d-2612f7736561",
   "metadata": {},
   "outputs": [],
   "source": [
    "# perform train test split\n",
    "x_train, x_test, y_train, y_test = train_test_split(features, labels, test_size=0.2, random_state=2)"
   ]
  },
  {
   "cell_type": "code",
   "execution_count": 21,
   "id": "6b472d86-8b17-45b0-99aa-2d3c877740f0",
   "metadata": {},
   "outputs": [],
   "source": [
    "# standardize the data\n",
    "standard_scaler = StandardScaler()\n",
    "x_train_scaled = standard_scaler.fit_transform(x_train)\n",
    "x_test_scaled = standard_scaler.transform(x_test)"
   ]
  },
  {
   "cell_type": "markdown",
   "id": "dc135657-b672-4e1c-ace4-5100538de480",
   "metadata": {},
   "source": [
    "### buiding the model"
   ]
  },
  {
   "cell_type": "code",
   "execution_count": 22,
   "id": "a3062b36-0a95-4420-b72d-f87d89a16d6a",
   "metadata": {},
   "outputs": [
    {
     "data": {
      "text/plain": [
       "((614, 8), (614,))"
      ]
     },
     "execution_count": 22,
     "metadata": {},
     "output_type": "execute_result"
    }
   ],
   "source": [
    "x_train_scaled.shape,y_train.shape"
   ]
  },
  {
   "cell_type": "code",
   "execution_count": 23,
   "id": "8c50e823-ffae-4096-9b68-7ce13c78db78",
   "metadata": {},
   "outputs": [],
   "source": [
    "svmc = svm_classifier(learning_rate = 0.01, num_iter=1000, reg_lambda=0.01)\n",
    "svmc.fit(x_train_scaled, y_train)"
   ]
  },
  {
   "cell_type": "code",
   "execution_count": 24,
   "id": "34ceffaf-588a-4244-bd2e-7c1a3821dab1",
   "metadata": {},
   "outputs": [],
   "source": [
    "train_predictions = svmc.predict(x_train_scaled)\n",
    "train_accuracy = accuracy_score(y_train, train_predictions)"
   ]
  },
  {
   "cell_type": "code",
   "execution_count": 25,
   "id": "70012986-ec0c-4f21-b13f-fcb724aec91d",
   "metadata": {},
   "outputs": [
    {
     "data": {
      "text/plain": [
       "0.6824104234527687"
      ]
     },
     "execution_count": 25,
     "metadata": {},
     "output_type": "execute_result"
    }
   ],
   "source": [
    "train_accuracy"
   ]
  },
  {
   "cell_type": "code",
   "execution_count": 26,
   "id": "e975ca2e-e90b-4bed-a427-6c766131737e",
   "metadata": {},
   "outputs": [
    {
     "data": {
      "text/plain": [
       "0.6753246753246753"
      ]
     },
     "execution_count": 26,
     "metadata": {},
     "output_type": "execute_result"
    }
   ],
   "source": [
    "test_predictions = svmc.predict(x_test_scaled)\n",
    "accuracy_score(y_test, test_predictions)"
   ]
  },
  {
   "cell_type": "markdown",
   "id": "f25f3e05-1961-41fc-9430-50aac2a38e6b",
   "metadata": {},
   "source": [
    "### compare with framework"
   ]
  },
  {
   "cell_type": "code",
   "execution_count": 29,
   "id": "623f1fc8-fde5-4435-bf8c-0fcb6501ae3f",
   "metadata": {},
   "outputs": [
    {
     "data": {
      "text/plain": [
       "0.8306188925081434"
      ]
     },
     "execution_count": 29,
     "metadata": {},
     "output_type": "execute_result"
    }
   ],
   "source": [
    "classifier = SVC(random_state=2)\n",
    "classifier.fit(x_train_scaled, y_train)\n",
    "\n",
    "train_predictions1 = classifier.predict(x_train_scaled)\n",
    "accuracy_score(y_train, train_predictions1)"
   ]
  },
  {
   "cell_type": "markdown",
   "id": "e52caa67-ec2a-409c-9a13-843e1886dcbb",
   "metadata": {},
   "source": [
    "These are the default parameters that the SVC classifier has\n",
    "C=1.0, kernel='rbf', degree=3, gamma='scale', coef0=0.0, shrinking=True, probability=False, tol=0.001, cache_size=200, max_iter=-1, decision_function_shape='ovr'. These constraints are not replicated in our implementation, therefore the difference in performance."
   ]
  },
  {
   "cell_type": "code",
   "execution_count": null,
   "id": "1b2df1c4-fba3-4a94-adfd-2b8790c8e0e3",
   "metadata": {},
   "outputs": [],
   "source": []
  }
 ],
 "metadata": {
  "kernelspec": {
   "display_name": "Python 3 (ipykernel)",
   "language": "python",
   "name": "python3"
  },
  "language_info": {
   "codemirror_mode": {
    "name": "ipython",
    "version": 3
   },
   "file_extension": ".py",
   "mimetype": "text/x-python",
   "name": "python",
   "nbconvert_exporter": "python",
   "pygments_lexer": "ipython3",
   "version": "3.10.13"
  }
 },
 "nbformat": 4,
 "nbformat_minor": 5
}
